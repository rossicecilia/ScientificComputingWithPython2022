{
 "cells": [
  {
   "cell_type": "code",
   "execution_count": 4,
   "id": "238b0413",
   "metadata": {},
   "outputs": [
    {
     "name": "stdout",
     "output_type": "stream",
     "text": [
      "Binario in Intero:  0b10111 23 23\n",
      "Intero in Binario:  23 0b10111 0b10111\n",
      "Binario in Esadecimale:  0b10111 0x17 0x17\n",
      "Esadecimale in binario: 0x17 0b10111 0b10111\n",
      "Intero in esadecimale:  23 0x17 0x17\n",
      "Esadecimale in Intero:  0x17 23 23\n"
     ]
    }
   ],
   "source": [
    "#Esercizio 1\n",
    "\n",
    "def convertNumRepresentation(num, newtype):\n",
    "    #fornire newtype: dec = decimale, bin = binario, hex = esadecimale\n",
    "    if isinstance(num,float):\n",
    "        raise Error\n",
    "    else:\n",
    "        if isinstance(num,str): #è binario o esadecimale\n",
    "            if num.startswith('0b'):\n",
    "                oldtype = 'bin'\n",
    "                try: \n",
    "                    num = int(num,2)\n",
    "                except: \n",
    "                    raise Error('The input is not a binary number')\n",
    "            elif num.startswith('0x'):\n",
    "                oldtype = 'hex'\n",
    "                try:\n",
    "                    num = int(num, 16)\n",
    "                except:\n",
    "                    raise Error('The input is not an hexadecimal number')\n",
    "        else:\n",
    "            oldtype = 'dec'\n",
    "        \n",
    "        if oldtype != newtype:\n",
    "            if newtype == 'dec':\n",
    "                return num\n",
    "            elif newtype == 'bin':\n",
    "                return bin(num)\n",
    "            else:\n",
    "                return hex(num)\n",
    "        else:\n",
    "            return num\n",
    "            \n",
    "\n",
    "#Test\n",
    "a = bin(23)\n",
    "b = 23\n",
    "c = hex(23)\n",
    "\n",
    "print('Binario in Intero: ', a, str(b), convertNumRepresentation(a,'dec'))\n",
    "print('Intero in Binario: ',  str(b), a, convertNumRepresentation(b,'bin'))\n",
    "print('Binario in Esadecimale: ', a, c, convertNumRepresentation(a,'hex'))\n",
    "print('Esadecimale in binario:', c, a, convertNumRepresentation(c,'bin'))\n",
    "print('Intero in esadecimale: ',b, c, convertNumRepresentation(b,'hex'))\n",
    "print('Esadecimale in Intero: ', c, b, convertNumRepresentation(c, 'dec'))"
   ]
  },
  {
   "cell_type": "code",
   "execution_count": 17,
   "id": "b4130a54",
   "metadata": {},
   "outputs": [
    {
     "name": "stdout",
     "output_type": "stream",
     "text": [
      "-84.133952\n"
     ]
    }
   ],
   "source": [
    "#Esercizio 2:\n",
    "\n",
    "def singlePrecisionFloat(binstr):\n",
    "    bias = 127\n",
    "    \n",
    "    #primo bit = segno\n",
    "    if binstr[0] == 0: #31\n",
    "        s = -1\n",
    "    else:\n",
    "        s = +1\n",
    "        \n",
    "    #bit dall'1 all'8 = esponente\n",
    "    espon = binstr[1:9]\n",
    "    espon = '0b'+str(espon)\n",
    "    e = int(espon,2)\n",
    "    \n",
    "    #mantissa da 9 a 32\n",
    "    mantissa = binstr[9:32]\n",
    "    mantissa = '0b'+ str(mantissa)\n",
    "    f = int(mantissa,2)\n",
    "    n = len(str(f))\n",
    "    \n",
    "    \n",
    "    #Ricostruisco il numero in singola precisione\n",
    "    \n",
    "    float_num = ((-1)*s)*(1+(int(f)*(10**(-n))))*(2**(e-bias))\n",
    "    return float_num\n",
    "\n",
    "a = '11000010101100000000000011001010'\n",
    "f_num = singlePrecisionFloat(a)\n",
    "print(f_num)"
   ]
  },
  {
   "cell_type": "code",
   "execution_count": 27,
   "id": "ad34c74c",
   "metadata": {},
   "outputs": [
    {
     "name": "stdout",
     "output_type": "stream",
     "text": [
      "(-0.999999999999, -9.999894245993345e-13)\n",
      "(-0.999999999999, -9.999894245993345e-13)\n",
      "(-1000010.5755125057, -1.000000000001e-06)\n",
      "(-0.999999999999, -9.999894245993345e-13)\n"
     ]
    }
   ],
   "source": [
    "#Esercizio 5\n",
    "import math\n",
    "\n",
    "def quadraticSolution_a(a,b,c):\n",
    "    #ritorna la soluzione di ax^2 + bx + c = 0\n",
    "    delta = b**2 - 4*a*c\n",
    "    if delta < 0:\n",
    "        print('There is no solution to the system')\n",
    "        return\n",
    "    elif delta == 0:\n",
    "        print('The system is indeterminate')\n",
    "        return\n",
    "    else:\n",
    "        x1 = (- b - math.sqrt(delta)) / 2*a\n",
    "        x2 = (- b + math.sqrt(delta)) / 2*a\n",
    "        return x1, x2\n",
    "\n",
    "a = 0.001\n",
    "b = 1000\n",
    "c = 0.001\n",
    "\n",
    "print(quadraticSolution_a(a,b,c))\n",
    "\n",
    "def quadraticSolution_b(a,b,c):\n",
    "    delta = b**2 - 4*a*c\n",
    "    if delta < 0:\n",
    "        print('There is no solution to the system')\n",
    "        return\n",
    "    elif delta == 0:\n",
    "        print('The system is indeterminate')\n",
    "        return\n",
    "    else:\n",
    "        x1 =  2*c / (-b + math.sqrt(delta))\n",
    "        x2 = 2*c / (- b - math.sqrt(delta))\n",
    "        return x1, x2\n",
    "\n",
    "print(quadraticSolution_a(a,b,c))\n",
    "print(quadraticSolution_b(a,b,c))\n",
    "\n",
    "def quadraticSolution(a,b,c):\n",
    "    #ritorna la soluzione di ax^2 + bx + c = 0\n",
    "    delta = b**2 - 4*a*c\n",
    "    if delta < 0:\n",
    "        print('There is no solution to the system')\n",
    "        return\n",
    "    elif delta == 0:\n",
    "        print('The system is indeterminate')\n",
    "        return\n",
    "    else:\n",
    "        x1 = (- b - math.sqrt(delta)) / 2*a\n",
    "        x2 = (- b + math.sqrt(delta)) / 2*a\n",
    "        return x1,x2\n",
    "\n",
    "print(quadraticSolution(a,b,c))"
   ]
  },
  {
   "cell_type": "code",
   "execution_count": 11,
   "id": "12049e22",
   "metadata": {},
   "outputs": [
    {
     "data": {
      "text/plain": [
       "False"
      ]
     },
     "execution_count": 11,
     "metadata": {},
     "output_type": "execute_result"
    }
   ],
   "source": [
    "a = 78\n",
    "type(a)\n",
    "type(a) == type(float(a))"
   ]
  },
  {
   "cell_type": "code",
   "execution_count": null,
   "id": "a684f617",
   "metadata": {},
   "outputs": [],
   "source": []
  }
 ],
 "metadata": {
  "kernelspec": {
   "display_name": "Python 3 (ipykernel)",
   "language": "python",
   "name": "python3"
  },
  "language_info": {
   "codemirror_mode": {
    "name": "ipython",
    "version": 3
   },
   "file_extension": ".py",
   "mimetype": "text/x-python",
   "name": "python",
   "nbconvert_exporter": "python",
   "pygments_lexer": "ipython3",
   "version": "3.8.6"
  }
 },
 "nbformat": 4,
 "nbformat_minor": 5
}
