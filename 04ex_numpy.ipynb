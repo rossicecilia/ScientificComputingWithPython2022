{
 "cells": [
  {
   "cell_type": "markdown",
   "metadata": {},
   "source": [
    "1\\. **Reductions**\n",
    "\n",
    "Find the total mean, and the mean for each row and column of the following matrix:\n",
    "\n",
    "```python\n",
    "m = np.arange(12).reshape((3,4))\n",
    "```"
   ]
  },
  {
   "cell_type": "code",
<<<<<<< HEAD
   "execution_count": 12,
   "metadata": {},
   "outputs": [
    {
     "name": "stdout",
     "output_type": "stream",
     "text": [
      "[[ 0  1  2  3]\n",
      " [ 4  5  6  7]\n",
      " [ 8  9 10 11]] \n",
      "\n",
      "The total mean of the matrix is:  5.5 \n",
      "\n",
      "The mean for the row  1 is:  1.5 \n",
      "\n",
      "The mean for the row  2 is:  5.5 \n",
      "\n",
      "The mean for the row  3 is:  9.5 \n",
      "\n",
      "The mean for the column  1 is:  4.0 \n",
      "\n",
      "The mean for the column  2 is:  5.0 \n",
      "\n",
      "The mean for the column  3 is:  6.0 \n",
      "\n",
      "The mean for the column  4 is:  7.0 \n",
      "\n"
     ]
    }
   ],
   "source": [
    "import numpy as np\n",
    "m = np.arange(12).reshape((3,4))\n",
    "print(m, '\\n')\n",
    "\n",
    "(rig, col) = m.shape\n",
    "\n",
    "rig_means = []\n",
    "col_means = []\n",
    "somma = 0\n",
    "\n",
    "for i in range(rig):\n",
    "    rig_means.append(sum(m[i,:])/col)\n",
    "    somma += sum(m[i,:])\n",
    "    \n",
    "total_mean = somma/(rig*col)\n",
    "\n",
    "for j in range(col): \n",
    "    col_means.append(sum(m[:,j]/rig))\n",
    "\n",
    "print('The total mean of the matrix is: ', total_mean, '\\n')\n",
    "for i in range(rig):\n",
    "    print('The mean for the row ',str(i+1), 'is: ', rig_means[i], '\\n')\n",
    "for j in range(col):\n",
    "    print('The mean for the column ', str(j+1),'is: ', col_means[j], '\\n' )\n"
   ]
=======
   "execution_count": null,
   "metadata": {},
   "outputs": [],
   "source": []
>>>>>>> upstream/main
  },
  {
   "cell_type": "markdown",
   "metadata": {},
   "source": [
    "2\\. **Outer product**\n",
    "\n",
    "Find the outer product of the following vectors:\n",
    "\n",
    "```python\n",
    "u = np.array([1, 3, 5, 7])\n",
    "v = np.array([2, 4, 6, 8])\n",
    "```\n",
    "\n",
    "Use different methods to do this:\n",
    "\n",
    "   1. Using the function `outer` in numpy\n",
    "   2. Using a nested `for` loop or a list comprehension\n",
    "   3. Using numpy broadcasting operations"
   ]
  },
  {
   "cell_type": "code",
<<<<<<< HEAD
   "execution_count": 18,
   "metadata": {},
   "outputs": [
    {
     "name": "stdout",
     "output_type": "stream",
     "text": [
      "Outer product found using the function outer: \n",
      " [[ 2  4  6  8]\n",
      " [ 6 12 18 24]\n",
      " [10 20 30 40]\n",
      " [14 28 42 56]] \n",
      "\n",
      "Outer product found using the for loop and list comprehension: \n",
      " [[ 2  4  6  8]\n",
      " [ 6 12 18 24]\n",
      " [10 20 30 40]\n",
      " [14 28 42 56]] \n",
      "\n",
      "Outer product found using the numpy broadcasting operations : \n",
      " [[ 2  4  6  8]\n",
      " [ 6 12 18 24]\n",
      " [10 20 30 40]\n",
      " [14 28 42 56]] \n",
      "\n"
     ]
    }
   ],
   "source": [
    "u = np.array([1, 3, 5, 7])\n",
    "v = np.array([2, 4, 6, 8])\n",
    "\n",
    "#Method 1\n",
    "product1 = np.outer(u,v)\n",
    "print('Outer product found using the function outer: \\n', product1, '\\n')\n",
    "\n",
    "#Method 2\n",
    "def outer_loop(u,v):\n",
    "    product2 = []\n",
    "    for el_u in u:\n",
    "        product_rig = [el_u*el_v for el_v in v]\n",
    "        product2.append(product_rig)\n",
    "    return np.array(product2)\n",
    "\n",
    "product2 = outer_loop(u,v)\n",
    "print('Outer product found using the for loop and list comprehension: \\n', product2, '\\n')\n",
    "\n",
    "#Method 3\n",
    "product3 = u[:,np.newaxis]*v\n",
    "print('Outer product found using the numpy broadcasting operations : \\n', product3, '\\n')"
   ]
=======
   "execution_count": null,
   "metadata": {},
   "outputs": [],
   "source": []
>>>>>>> upstream/main
  },
  {
   "cell_type": "markdown",
   "metadata": {},
   "source": [
    "3\\. **Matrix masking**\n",
    "\n",
    "Create a 10 by 6 matrix of float random numbers, distributed between 0 and 3 according to a flat distribution.\n",
    "\n",
    "After creating the matrix, set all entries $< 0.3$ to zero using a mask."
   ]
  },
  {
   "cell_type": "code",
<<<<<<< HEAD
   "execution_count": 40,
   "metadata": {},
   "outputs": [
    {
     "name": "stdout",
     "output_type": "stream",
     "text": [
      "Matrix of float random number: \n",
      " [[1.11262727 2.77857323 1.74580345 0.68511136 1.56923407 0.11876504]\n",
      " [1.38394566 1.36148266 2.08408146 2.60312058 1.75086207 1.01563238]\n",
      " [1.14371024 0.21589454 0.48626977 1.29521716 0.12970165 2.05489995]\n",
      " [0.06621416 1.61068157 2.07817691 0.91762147 1.97752039 1.78868558]\n",
      " [0.88297099 0.83458565 2.29985418 0.32035187 2.959694   1.55343336]\n",
      " [2.51477115 2.05443265 1.48500085 0.87268164 2.17206198 0.62497984]\n",
      " [1.32096186 0.58874211 1.66951405 1.98147655 1.61200516 0.05920478]\n",
      " [0.12590772 1.45298261 2.42977391 1.7798152  0.99019082 1.51669932]\n",
      " [0.84892129 0.95378647 1.45388273 2.3369125  2.41620598 0.29941984]\n",
      " [2.51347191 1.32347396 1.73434022 1.42265616 0.34407692 2.0988741 ]] \n",
      "\n",
      "Matrix filtered using the mask: \n",
      " [[1.11262727 2.77857323 1.74580345 0.68511136 1.56923407 0.        ]\n",
      " [1.38394566 1.36148266 2.08408146 2.60312058 1.75086207 1.01563238]\n",
      " [1.14371024 0.         0.48626977 1.29521716 0.         2.05489995]\n",
      " [0.         1.61068157 2.07817691 0.91762147 1.97752039 1.78868558]\n",
      " [0.88297099 0.83458565 2.29985418 0.32035187 2.959694   1.55343336]\n",
      " [2.51477115 2.05443265 1.48500085 0.87268164 2.17206198 0.62497984]\n",
      " [1.32096186 0.58874211 1.66951405 1.98147655 1.61200516 0.        ]\n",
      " [0.         1.45298261 2.42977391 1.7798152  0.99019082 1.51669932]\n",
      " [0.84892129 0.95378647 1.45388273 2.3369125  2.41620598 0.        ]\n",
      " [2.51347191 1.32347396 1.73434022 1.42265616 0.34407692 2.0988741 ]] \n",
      "\n"
     ]
    }
   ],
   "source": [
    "import numpy.random as npr\n",
    "\n",
    "m = np.random.uniform(0,3,(10,6))\n",
    "print('Matrix of float random number: \\n', m, '\\n')\n",
    "\n",
    "mask = ( m > 0.3 )\n",
    "m_filtered = np.zeros((10,6)) + m*np.logical_and(mask, m) \n",
    "print('Matrix filtered using the mask: \\n', m_filtered, '\\n')"
   ]
=======
   "execution_count": null,
   "metadata": {},
   "outputs": [],
   "source": []
>>>>>>> upstream/main
  },
  {
   "cell_type": "markdown",
   "metadata": {},
   "source": [
    "4\\. **Trigonometric functions**\n",
    "\n",
    "Use `np.linspace` to create an array of 100 numbers between $0$ and $2\\pi$ (inclusive).\n",
    "\n",
    "  * Extract every 10th element using the slice notation\n",
    "  * Reverse the array using the slice notation\n",
    "  * Extract elements where the absolute difference between the `sin` and `cos` functions evaluated for that element is $< 0.1$\n",
    "  * **Optional**: make a plot showing the sin and cos functions and indicate where they are close"
   ]
  },
  {
   "cell_type": "code",
<<<<<<< HEAD
   "execution_count": 71,
   "metadata": {},
   "outputs": [
    {
     "name": "stdout",
     "output_type": "stream",
     "text": [
      "-1.3818943502867786\n",
      "-1.2910340818569783\n",
      "-0.6973683448699075\n",
      "0.16789410852218212\n",
      "0.9677686088851172\n",
      "1.3907364452926037\n",
      "1.2720687820320902\n",
      "0.657981866115799\n",
      "-0.21236232847641823\n",
      "-1.0\n",
      "[]\n"
     ]
    }
   ],
   "source": [
    "import math\n",
    "\n",
    "t = np.linspace(0,2*math.pi, 100)\n",
    "n = []\n",
    "i = 0\n",
    "\n",
    "while True:\n",
    "    try: \n",
    "        n.append(t[10*i])\n",
    "        i += 1\n",
    "    except:\n",
    "        break\n",
    "\n",
    "n = np.array(n)\n",
    "n_inverted = n.copy()\n",
    "for i in range(n.shape[0]):\n",
    "    n_inverted[n.shape[0]-1-i] = n[i]\n",
    "n = n_inverted\n",
    "\n",
    "l = []\n",
    "\n",
    "for el in n:\n",
    "    print(abs(np.sin(el) - np.cos(el)))\n",
    "    if abs(np.sin(el) - np.cos(el)) < 0.1:\n",
    "        l.append(el)\n",
    "\n",
    "print(l) #è vuota...non ce n'è nessuno\n"
   ]
=======
   "execution_count": null,
   "metadata": {},
   "outputs": [],
   "source": []
>>>>>>> upstream/main
  },
  {
   "cell_type": "markdown",
   "metadata": {},
   "source": [
    "5\\. **Matrices**\n",
    "\n",
    "Create a matrix that shows the 10 by 10 multiplication table.\n",
    "\n",
    " * Find the trace of the matrix\n",
    " * Extract the anti-diagonal matrix (this should be ```array([10, 18, 24, 28, 30, 30, 28, 24, 18, 10])```)\n",
    " * Extract the diagonal offset by 1 upwards (this should be ```array([ 2,  6, 12, 20, 30, 42, 56, 72, 90])```)"
   ]
  },
  {
   "cell_type": "code",
   "execution_count": null,
   "metadata": {},
   "outputs": [],
   "source": []
  },
  {
   "cell_type": "markdown",
   "metadata": {},
   "source": [
    "6\\. **Broadcasting**\n",
    "\n",
    "Use broadcasting to create a grid of distances.\n",
    "\n",
    "Route 66 crosses the following cities in the US: Chicago, Springfield, Saint-Louis, Tulsa, Oklahoma City, Amarillo, Santa Fe, Albuquerque, Flagstaff, Los Angeles.\n",
    "\n",
    "The corresponding positions in miles are: 0, 198, 303, 736, 871, 1175, 1475, 1544, 1913, 2448\n",
    "\n",
    "  * Build a 2D grid of distances among each city along Route 66\n",
    "  * Convert the distances in km"
   ]
  },
  {
   "cell_type": "code",
   "execution_count": null,
   "metadata": {},
   "outputs": [],
   "source": []
  },
  {
   "cell_type": "markdown",
   "metadata": {},
   "source": [
    "7\\. **Prime numbers sieve**\n",
    "\n",
    "Compute the prime numbers in the 0-N (start with N=99) range with a sieve (mask).\n",
    "\n",
    "  * Constract a shape (N,) boolean array, which is the mask\n",
    "  * Identify the multiples of each number starting from 2 and set accordingly the corresponding mask element\n",
    "  * Apply the mask to obtain an array of ordered prime numbers\n",
    "  * Check the performances (with `timeit`); how does it scale with N?\n",
    "  * Implement the optimization suggested in the [sieve of Eratosthenes](https://en.wikipedia.org/wiki/Sieve_of_Eratosthenes)"
   ]
  },
  {
   "cell_type": "code",
   "execution_count": null,
   "metadata": {},
   "outputs": [],
   "source": []
  },
  {
   "cell_type": "markdown",
   "metadata": {},
   "source": [
    "8\\. **Diffusion using random walk**\n",
    "\n",
    "Consider a simple random walk process: at each step in time, a walker jumps right or left (+1 or -1) with equal probability. The goal is to find the typical distance from the origin of many random walkers after a given amount of time.\n",
    "\n",
    "*Hint*: create a 2D array where each row represents a walker, and each column represents a time step.\n",
    "\n",
    "  * Take 1000 walkers and let them walk for 200 steps\n",
    "  * Use `randint` to create a 2D array of size $walkers \\times steps$ with values -1 or 1\n",
    "  * Calculate the walking distances for each walker (e.g. by summing the elements in each row)\n",
    "  * Take the square of the previously-obtained array (element-wise)\n",
    "  * Compute the mean of the squared distances at each step (i.e. the mean along the columns)\n",
    "  * **Optional**: plot the average distances ($\\sqrt(distance^2)$) as a function of time (step)"
   ]
  },
  {
   "cell_type": "code",
   "execution_count": null,
   "metadata": {},
   "outputs": [],
   "source": []
  }
 ],
 "metadata": {
  "kernelspec": {
<<<<<<< HEAD
<<<<<<< HEAD
   "display_name": "Python 3 (ipykernel)",
=======
   "display_name": "Python 3",
>>>>>>> upstream/main
=======
   "display_name": "Python 3",
>>>>>>> upstream/main
   "language": "python",
   "name": "python3"
  },
  "language_info": {
   "codemirror_mode": {
    "name": "ipython",
    "version": 3
   },
   "file_extension": ".py",
   "mimetype": "text/x-python",
   "name": "python",
   "nbconvert_exporter": "python",
   "pygments_lexer": "ipython3",
<<<<<<< HEAD
<<<<<<< HEAD
   "version": "3.8.6"
=======
   "version": "3.8.5"
>>>>>>> upstream/main
=======
   "version": "3.8.5"
>>>>>>> upstream/main
  }
 },
 "nbformat": 4,
 "nbformat_minor": 2
}
