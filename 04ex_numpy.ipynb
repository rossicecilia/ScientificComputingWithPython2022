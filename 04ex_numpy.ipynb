{
 "cells": [
  {
   "cell_type": "markdown",
   "metadata": {},
   "source": [
    "1\\. **Reductions**\n",
    "\n",
    "Find the total mean, and the mean for each row and column of the following matrix:\n",
    "\n",
    "```python\n",
    "m = np.arange(12).reshape((3,4))\n",
    "```"
   ]
  },
  {
   "cell_type": "code",
   "execution_count": 1,
   "metadata": {},
   "outputs": [
    {
     "name": "stdout",
     "output_type": "stream",
     "text": [
      "Total Mean of the matrix:  5.5 \n",
      "\n",
      "Mean of the row 1 :  1.5\n",
      "Mean of the row 2 :  5.5\n",
      "Mean of the row 3 :  9.5\n",
      "\n",
      "\n",
      "Mean of the column 1 :  4.0\n",
      "Mean of the column 2 :  5.0\n",
      "Mean of the column 3 :  6.0\n",
      "Mean of the column 4 :  7.0\n",
      "\n",
      "\n"
     ]
    }
   ],
   "source": [
    "#importo modulo\n",
    "import numpy as np\n",
    "import timeit\n",
    "\n",
    "#Media Totale\n",
    "m = np.arange(12).reshape((3,4))\n",
    "print('Total Mean of the matrix: ', m.mean(), '\\n')\n",
    "\n",
    "#Media righe\n",
    "med_rig = m.mean(axis = 1)\n",
    "for rig in range(med_rig.shape[0]):\n",
    "    print('Mean of the row', str(rig+1),': ', med_rig[rig])\n",
    "print('\\n')\n",
    "\n",
    "#Media colonne\n",
    "med_col = m.mean(axis = 0)\n",
    "for col in range(med_col.shape[0]):\n",
    "    print('Mean of the column', str(col + 1), ': ', med_col[col])\n",
    "print('\\n')"
   ]
  },
  {
   "cell_type": "markdown",
   "metadata": {},
   "source": [
    "2\\. **Outer product**\n",
    "\n",
    "Find the outer product of the following vectors:\n",
    "\n",
    "```python\n",
    "u = np.array([1, 3, 5, 7])\n",
    "v = np.array([2, 4, 6, 8])\n",
    "```\n",
    "\n",
    "Use different methods to do this:\n",
    "\n",
    "   1. Using the function `outer` in numpy\n",
    "   2. Using a nested `for` loop or a list comprehension\n",
    "   3. Using numpy broadcasting operations"
   ]
  },
  {
   "cell_type": "code",
   "execution_count": 2,
   "metadata": {},
   "outputs": [
    {
     "name": "stdout",
     "output_type": "stream",
     "text": [
      "Outer product with outer function:\n",
      " [[ 2  4  6  8]\n",
      " [ 6 12 18 24]\n",
      " [10 20 30 40]\n",
      " [14 28 42 56]] \n",
      "\n",
      "Outer product with list comprehension and loop:\n",
      " [[ 2  4  6  8]\n",
      " [ 6 12 18 24]\n",
      " [10 20 30 40]\n",
      " [14 28 42 56]] \n",
      "\n",
      "Outer product with broadcast:\n",
      " [[ 2  4  6  8]\n",
      " [ 6 12 18 24]\n",
      " [10 20 30 40]\n",
      " [14 28 42 56]] \n",
      "\n"
     ]
    }
   ],
   "source": [
    "#Metodo 1 : Outer Function\n",
    "u = np.array([1,3,5,7])\n",
    "v = np.array([2,4,6,8])\n",
    "print('Outer product with outer function:\\n', np.outer(u,v), '\\n')\n",
    "\n",
    "#Metodo 2 : List Comprehension\n",
    "outer2 = np.array([el_u * v for el_u in u])\n",
    "print('Outer product with list comprehension and loop:\\n', outer2, '\\n')\n",
    "\n",
    "#Metodo 3 : Broadcasting\n",
    "\n",
    "outer3 = np.tile(u,(4,1)).T * v\n",
    "print('Outer product with broadcast:\\n', outer3, '\\n')"
   ]
  },
  {
   "cell_type": "markdown",
   "metadata": {},
   "source": [
    "3\\. **Matrix masking**\n",
    "\n",
    "Create a 10 by 6 matrix of float random numbers, distributed between 0 and 3 according to a flat distribution.\n",
    "\n",
    "After creating the matrix, set all entries $< 0.3$ to zero using a mask."
   ]
  },
  {
   "cell_type": "code",
   "execution_count": 3,
   "metadata": {},
   "outputs": [
    {
     "name": "stdout",
     "output_type": "stream",
     "text": [
      "Original Matrix:\n",
      " [[1.72785102 0.07998708 1.4407246  1.46911778 2.6442418  0.47995308]\n",
      " [0.40251132 1.32139521 0.57057263 1.45193224 2.0958726  1.20392735]\n",
      " [1.54031032 0.57576968 0.34471401 2.67290844 2.84910928 2.69550391]\n",
      " [2.59246639 0.76896038 1.39891001 1.92424794 1.3205948  1.28642404]\n",
      " [2.71547587 0.90579248 0.02764348 1.82100873 0.69130921 1.67063175]\n",
      " [2.08672348 1.66208495 1.22224141 2.40879253 2.395439   1.28671619]\n",
      " [0.78816768 0.39521287 2.6419531  2.39703573 1.97690965 1.93400621]\n",
      " [2.84549273 1.39040964 0.88482228 0.86898292 0.54525279 2.71162588]\n",
      " [2.0644935  0.44488378 1.29697419 2.54668896 1.07405013 2.49068131]\n",
      " [1.40592632 1.91313072 1.12594791 1.78271639 2.39005563 1.88067851]] \n",
      "\n",
      "Filtered Matrix:\n",
      " [[1.72785102 0.         1.4407246  1.46911778 2.6442418  0.47995308]\n",
      " [0.40251132 1.32139521 0.57057263 1.45193224 2.0958726  1.20392735]\n",
      " [1.54031032 0.57576968 0.34471401 2.67290844 2.84910928 2.69550391]\n",
      " [2.59246639 0.76896038 1.39891001 1.92424794 1.3205948  1.28642404]\n",
      " [2.71547587 0.90579248 0.         1.82100873 0.69130921 1.67063175]\n",
      " [2.08672348 1.66208495 1.22224141 2.40879253 2.395439   1.28671619]\n",
      " [0.78816768 0.39521287 2.6419531  2.39703573 1.97690965 1.93400621]\n",
      " [2.84549273 1.39040964 0.88482228 0.86898292 0.54525279 2.71162588]\n",
      " [2.0644935  0.44488378 1.29697419 2.54668896 1.07405013 2.49068131]\n",
      " [1.40592632 1.91313072 1.12594791 1.78271639 2.39005563 1.88067851]] \n",
      "\n"
     ]
    }
   ],
   "source": [
    "randmat = np.random.uniform(0,3,(10,6))\n",
    "print('Original Matrix:\\n', randmat, '\\n')\n",
    "mask = (randmat < 0.3)\n",
    "randmat[mask] = 0\n",
    "print('Filtered Matrix:\\n', randmat, '\\n')"
   ]
  },
  {
   "cell_type": "markdown",
   "metadata": {},
   "source": [
    "4\\. **Trigonometric functions**\n",
    "\n",
    "Use `np.linspace` to create an array of 100 numbers between $0$ and $2\\pi$ (inclusive).\n",
    "\n",
    "  * Extract every 10th element using the slice notation\n",
    "  * Reverse the array using the slice notation\n",
    "  * Extract elements where the absolute difference between the `sin` and `cos` functions evaluated for that element is $< 0.1$\n",
    "  * **Optional**: make a plot showing the sin and cos functions and indicate where they are close"
   ]
  },
  {
   "cell_type": "code",
   "execution_count": 5,
   "metadata": {},
   "outputs": [
    {
     "name": "stdout",
     "output_type": "stream",
     "text": [
      "Original Time Array:\n",
      " [0.         0.06346652 0.12693304 0.19039955 0.25386607 0.31733259\n",
      " 0.38079911 0.44426563 0.50773215 0.57119866 0.63466518 0.6981317\n",
      " 0.76159822 0.82506474 0.88853126 0.95199777 1.01546429 1.07893081\n",
      " 1.14239733 1.20586385 1.26933037 1.33279688 1.3962634  1.45972992\n",
      " 1.52319644 1.58666296 1.65012947 1.71359599 1.77706251 1.84052903\n",
      " 1.90399555 1.96746207 2.03092858 2.0943951  2.15786162 2.22132814\n",
      " 2.28479466 2.34826118 2.41172769 2.47519421 2.53866073 2.60212725\n",
      " 2.66559377 2.72906028 2.7925268  2.85599332 2.91945984 2.98292636\n",
      " 3.04639288 3.10985939 3.17332591 3.23679243 3.30025895 3.36372547\n",
      " 3.42719199 3.4906585  3.55412502 3.61759154 3.68105806 3.74452458\n",
      " 3.8079911  3.87145761 3.93492413 3.99839065 4.06185717 4.12532369\n",
      " 4.1887902  4.25225672 4.31572324 4.37918976 4.44265628 4.5061228\n",
      " 4.56958931 4.63305583 4.69652235 4.75998887 4.82345539 4.88692191\n",
      " 4.95038842 5.01385494 5.07732146 5.14078798 5.2042545  5.26772102\n",
      " 5.33118753 5.39465405 5.45812057 5.52158709 5.58505361 5.64852012\n",
      " 5.71198664 5.77545316 5.83891968 5.9023862  5.96585272 6.02931923\n",
      " 6.09278575 6.15625227 6.21971879 6.28318531] \n",
      "\n",
      "10th elements time array:\n",
      " [0.57119866 1.20586385 1.84052903 2.47519421 3.10985939 3.74452458\n",
      " 4.37918976 5.01385494 5.64852012 6.28318531] \n",
      "\n",
      "Reverse Array:\n",
      " [6.28318531 5.64852012 5.01385494 4.37918976 3.74452458 3.10985939\n",
      " 2.47519421 1.84052903 1.20586385 0.57119866] \n",
      "\n",
      "Elements where the absolute difference between the sin and cos function evalueted for that element is < 0.1 \n",
      " [0.76159822 0.82506474 3.87145761 3.93492413]\n"
     ]
    }
   ],
   "source": [
    "import math\n",
    "\n",
    "time = np.linspace(0,2*math.pi, 100)\n",
    "print('Original Time Array:\\n',time,'\\n')\n",
    "\n",
    "time_ten = time[[(10*(k+1) - 1) for k in range(10)]]\n",
    "print('10th elements time array:\\n', time_ten,'\\n')\n",
    "\n",
    "time_ten_rev = time_ten[[-k for k in range(1 , time_ten.shape[0]+1)]]\n",
    "print('Reverse Array:\\n', time_ten_rev,'\\n')\n",
    "\n",
    "phi = 0.1\n",
    "low_diff_sincos = time[abs(np.cos(time)-np.sin(time)) < phi]\n",
    "print('Elements where the absolute difference between the sin and cos function evalueted for that element is <',str(phi),'\\n',low_diff_sincos)"
   ]
  },
  {
   "cell_type": "markdown",
   "metadata": {},
   "source": [
    "5\\. **Matrices**\n",
    "\n",
    "Create a matrix that shows the 10 by 10 multiplication table.\n",
    "\n",
    " * Find the trace of the matrix\n",
    " * Extract the anti-diagonal matrix (this should be ```array([10, 18, 24, 28, 30, 30, 28, 24, 18, 10])```)\n",
    " * Extract the diagonal offset by 1 upwards (this should be ```array([ 2,  6, 12, 20, 30, 42, 56, 72, 90])```)"
   ]
  },
  {
   "cell_type": "code",
   "execution_count": 6,
   "metadata": {},
   "outputs": [
    {
     "name": "stdout",
     "output_type": "stream",
     "text": [
      "10 by 10 multiplication table: \n",
      " [[  1   2   3   4   5   6   7   8   9  10]\n",
      " [  2   4   6   8  10  12  14  16  18  20]\n",
      " [  3   6   9  12  15  18  21  24  27  30]\n",
      " [  4   8  12  16  20  24  28  32  36  40]\n",
      " [  5  10  15  20  25  30  35  40  45  50]\n",
      " [  6  12  18  24  30  36  42  48  54  60]\n",
      " [  7  14  21  28  35  42  49  56  63  70]\n",
      " [  8  16  24  32  40  48  56  64  72  80]\n",
      " [  9  18  27  36  45  54  63  72  81  90]\n",
      " [ 10  20  30  40  50  60  70  80  90 100]] \n",
      "\n",
      "Matrix trace:  385 \n",
      "\n",
      "Anti-diagonal:  [10 18 24 28 30 30 28 24 18 10] <class 'numpy.ndarray'> \n",
      "\n",
      "Anti-diagonal Matrix:\n",
      " [[ 0  0  0  0  0  0  0  0  0 10]\n",
      " [ 0  0  0  0  0  0  0  0 18  0]\n",
      " [ 0  0  0  0  0  0  0 24  0  0]\n",
      " [ 0  0  0  0  0  0 28  0  0  0]\n",
      " [ 0  0  0  0  0 30  0  0  0  0]\n",
      " [ 0  0  0  0 30  0  0  0  0  0]\n",
      " [ 0  0  0 28  0  0  0  0  0  0]\n",
      " [ 0  0 24  0  0  0  0  0  0  0]\n",
      " [ 0 18  0  0  0  0  0  0  0  0]\n",
      " [10  0  0  0  0  0  0  0  0  0]] \n",
      "\n",
      "The diagonal offset by 1 upwards:\n",
      " [ 2  6 12 20 30 42 56 72 90] <class 'numpy.ndarray'>\n"
     ]
    }
   ],
   "source": [
    "u = np.arange(1,11)\n",
    "multiplication_table10 = np.outer(u,u)\n",
    "print('10 by 10 multiplication table: \\n', multiplication_table10,'\\n')\n",
    "\n",
    "print('Matrix trace: ',np.trace(multiplication_table10),'\\n')\n",
    "\n",
    "antdiag = np.diag(np.fliplr(multiplication_table10))\n",
    "print('Anti-diagonal: ', antdiag, type(antdiag),'\\n')\n",
    "antdiag_mat = np.fliplr(np.tril(np.triu(np.fliplr(multiplication_table10))))\n",
    "print('Anti-diagonal Matrix:\\n', antdiag_mat, '\\n')\n",
    "#In here I didn't understand if the request was to print the anti-diagonal elements in an array, or\n",
    "#the anti-diagonal matrix, so I did both\n",
    "\n",
    "diag_1up = np.diag(multiplication_table10, +1)\n",
    "print('The diagonal offset by 1 upwards:\\n',diag_1up, type(diag_1up))"
   ]
  },
  {
   "cell_type": "markdown",
   "metadata": {},
   "source": [
    "6\\. **Broadcasting**\n",
    "\n",
    "Use broadcasting to create a grid of distances.\n",
    "\n",
    "Route 66 crosses the following cities in the US: Chicago, Springfield, Saint-Louis, Tulsa, Oklahoma City, Amarillo, Santa Fe, Albuquerque, Flagstaff, Los Angeles.\n",
    "\n",
    "The corresponding positions in miles are: 0, 198, 303, 736, 871, 1175, 1475, 1544, 1913, 2448\n",
    "\n",
    "  * Build a 2D grid of distances among each city along Route 66\n",
    "  * Convert the distances in km"
   ]
  },
  {
   "cell_type": "code",
   "execution_count": 7,
   "metadata": {},
   "outputs": [
    {
     "name": "stdout",
     "output_type": "stream",
     "text": [
      "2D grid distances among city alont Route 66 (in miles): \n",
      " [[   0  198  303  736  871 1175 1475 1544 1913 2448]\n",
      " [ 198    0  105  538  673  977 1277 1346 1715 2250]\n",
      " [ 303  105    0  433  568  872 1172 1241 1610 2145]\n",
      " [ 736  538  433    0  135  439  739  808 1177 1712]\n",
      " [ 871  673  568  135    0  304  604  673 1042 1577]\n",
      " [1175  977  872  439  304    0  300  369  738 1273]\n",
      " [1475 1277 1172  739  604  300    0   69  438  973]\n",
      " [1544 1346 1241  808  673  369   69    0  369  904]\n",
      " [1913 1715 1610 1177 1042  738  438  369    0  535]\n",
      " [2448 2250 2145 1712 1577 1273  973  904  535    0]] \n",
      "\n",
      "2D grid distances among city alont Route 66 (in km): \n",
      "  [[   0.       318.64932  487.63002 1184.47424 1401.73514 1890.9745\n",
      "  2373.7765  2484.82096 3078.66742 3939.66432]\n",
      " [ 318.64932    0.       168.9807   865.82492 1083.08582 1572.32518\n",
      "  2055.12718 2166.17164 2760.0181  3621.015  ]\n",
      " [ 487.63002  168.9807     0.       696.84422  914.10512 1403.34448\n",
      "  1886.14648 1997.19094 2591.0374  3452.0343 ]\n",
      " [1184.47424  865.82492  696.84422    0.       217.2609   706.50026\n",
      "  1189.30226 1300.34672 1894.19318 2755.19008]\n",
      " [1401.73514 1083.08582  914.10512  217.2609     0.       489.23936\n",
      "   972.04136 1083.08582 1676.93228 2537.92918]\n",
      " [1890.9745  1572.32518 1403.34448  706.50026  489.23936    0.\n",
      "   482.802    593.84646 1187.69292 2048.68982]\n",
      " [2373.7765  2055.12718 1886.14648 1189.30226  972.04136  482.802\n",
      "     0.       111.04446  704.89092 1565.88782]\n",
      " [2484.82096 2166.17164 1997.19094 1300.34672 1083.08582  593.84646\n",
      "   111.04446    0.       593.84646 1454.84336]\n",
      " [3078.66742 2760.0181  2591.0374  1894.19318 1676.93228 1187.69292\n",
      "   704.89092  593.84646    0.       860.9969 ]\n",
      " [3939.66432 3621.015   3452.0343  2755.19008 2537.92918 2048.68982\n",
      "  1565.88782 1454.84336  860.9969     0.     ]]\n"
     ]
    }
   ],
   "source": [
    "position = np.array([0,198,303,736,871,1175,1475,1544,1913,2448])\n",
    "distances_miles = abs(np.tile(position,(position.shape[0],1)).T - position)\n",
    "print('2D grid distances among city alont Route 66 (in miles): \\n', distances_miles,'\\n')\n",
    "conv = 1.60934\n",
    "distances_km = distances_miles * conv\n",
    "print('2D grid distances among city alont Route 66 (in km): \\n ', distances_km)"
   ]
  },
  {
   "cell_type": "markdown",
   "metadata": {},
   "source": [
    "7\\. **Prime numbers sieve**\n",
    "\n",
    "Compute the prime numbers in the 0-N (start with N=99) range with a sieve (mask).\n",
    "\n",
    "  * Constract a shape (N,) boolean array, which is the mask\n",
    "  * Identify the multiples of each number starting from 2 and set accordingly the corresponding mask element\n",
    "  * Apply the mask to obtain an array of ordered prime numbers\n",
    "  * Check the performances (with `timeit`); how does it scale with N?\n",
    "  * Implement the optimization suggested in the [sieve of Eratosthenes](https://en.wikipedia.org/wiki/Sieve_of_Eratosthenes)"
   ]
  },
  {
   "cell_type": "code",
   "execution_count": 8,
   "metadata": {},
   "outputs": [
    {
     "name": "stdout",
     "output_type": "stream",
     "text": [
      "Prime numbers in the 0 - 99 range:  [ 0  1  2  3  5  7  9 11 13 15 17 19 21 23 25 27 29 31 33 35 37 39 41 43\n",
      " 45 47 49 51 53 55 57 59 61 63 65 67 69 71 73 75 77 79 81 83 85 87 89 91\n",
      " 93 95 97] \n",
      "\n",
      "Performances of my algorithm (sec):  0.00027416010000001734 \n",
      "\n",
      "Prime numbers in the 0 - 99 range, found with Eratosthenes sieve:\n",
      " [ 0  1  2  3  5  7  9 11 13 15 17 19 21 23 25 27 29 31 33 35 37 39 41 43\n",
      " 45 47 49 51 53 55 57 59 61 63 65 67 69 71 73 75 77 79 81 83 85 87 89 91\n",
      " 93 95 97] \n",
      "\n",
      "Eratosthenes Algoritm Performance (sec):  0.0004048917839999717 \n",
      "\n"
     ]
    }
   ],
   "source": [
    "def findPrimes(N):\n",
    "    mask = np.array(np.ones(N,),bool)\n",
    "    #Identify the multiples\n",
    "    for num in range(2,N):\n",
    "        for k in range(2,N):\n",
    "            if num*k >= N or mask[num*k] == 0:\n",
    "                break\n",
    "            mask[num*k] = 0\n",
    "    primes = np.arange(0,N)[mask]\n",
    "    return primes\n",
    "\n",
    "N = 99\n",
    "loops = 1000\n",
    "primes = findPrimes(99)\n",
    "print('Prime numbers in the 0 -',N,'range: ',primes,'\\n')\n",
    "\n",
    "t = timeit.timeit('findPrimes(N)', globals = globals(), number = loops)\n",
    "time = t/loops\n",
    "print('Performances of my algorithm (sec): ', time, '\\n')\n",
    "\n",
    "#Sieve f Eratosthenes\n",
    "def eratosthenes(N):\n",
    "    mask = np.array(np.ones(N,),bool)\n",
    "    #Identify the multiples\n",
    "    for num in range(2,N):\n",
    "        if mask[num] == 0:\n",
    "            continue\n",
    "        else:\n",
    "            for k in range(2,N):\n",
    "                if num*k >= N or mask[num*k] == 0:\n",
    "                    break\n",
    "                mask[num*k] = 0\n",
    "    primes = np.arange(0,N)[mask]\n",
    "    return primes\n",
    "\n",
    "t_era = timeit.timeit('eratosthenes(N)', globals = globals(), number = loops)\n",
    "time_era = t_era/loops\n",
    "print('Prime numbers in the 0 -',N,'range, found with Eratosthenes sieve:\\n',eratosthenes(N),'\\n')\n",
    "print('Eratosthenes Algoritm Performance (sec): ',time_era, '\\n')"
   ]
  },
  {
   "cell_type": "markdown",
   "metadata": {},
   "source": [
    "8\\. **Diffusion using random walk**\n",
    "\n",
    "Consider a simple random walk process: at each step in time, a walker jumps right or left (+1 or -1) with equal probability. The goal is to find the typical distance from the origin of many random walkers after a given amount of time.\n",
    "\n",
    "*Hint*: create a 2D array where each row represents a walker, and each column represents a time step.\n",
    "\n",
    "  * Take 1000 walkers and let them walk for 200 steps\n",
    "  * Use `randint` to create a 2D array of size $walkers \\times steps$ with values -1 or 1\n",
    "  * Calculate the walking distances for each walker (e.g. by summing the elements in each row)\n",
    "  * Take the square of the previously-obtained array (element-wise)\n",
    "  * Compute the mean of the squared distances at each step (i.e. the mean along the columns)\n",
    "  * **Optional**: plot the average distances ($\\sqrt(distance^2)$) as a function of time (step)"
   ]
  },
  {
   "cell_type": "code",
   "execution_count": 9,
   "metadata": {},
   "outputs": [
    {
     "name": "stdout",
     "output_type": "stream",
     "text": [
      "Distances for each walker:\n",
      " [-12  14 -22  -2   2  -2  12  26  -2  -4 -28 -24  14   0  -6  30 -14   0\n",
      " -12  -8  18   2 -22  -2  14 -16  22   2   4  24 -24  -4   6   0   6  -4\n",
      "   4   6  16  -2 -12 -12   2  -6  10 -12  -6  -6   4   8  16 -10   8  12\n",
      " -14 -14  -6  12  -8  -2   0 -34   6 -16   2  -2  28  -6 -12   8   6 -10\n",
      "  -6   0  24  10  14   0  -6  10  16  -4 -14  32 -22 -10  18  -6  12   6\n",
      " -20   2  -4 -10  -2  14  18  10   4  20  28  10   0  12 -20  -2 -12  18\n",
      "  -2   2  20  -2 -26  -4   0   8   8   6 -20 -16  -8   2 -12 -18   6  -8\n",
      " -14  20 -18  14 -10  -2 -24  32  -2  12   0  26 -12 -22 -10  -6  12 -16\n",
      "  -4  -4 -20  16  10 -10  -8  -2  -6   6 -14   6   8  14 -20 -30 -12   6\n",
      " -14  22  18  34 -24 -18 -18  -2  -2   2  -8  -6  -8   8  10   6 -18 -12\n",
      "  -6  -4  18  16  14 -26   8   2 -14  16  22   2   4  36   6 -10 -14 -16\n",
      " -16 -20  26   4  10 -20 -20   2 -14  28  12   6   0 -20   4   6  -6  -2\n",
      " -22   2 -18  14  -2 -16 -14  -8 -18   0   8  -6  -6 -10  -4  -2  -6  12\n",
      "   2 -12 -12   2  18 -20   8   0  -4   0  -4  -4 -30   4  16 -44  -2   8\n",
      "   2   0   8   0 -26 -14  -4  10   6 -10   4 -20  14 -32 -12   0  -8  -6\n",
      " -12  -4   6 -10   6   6  24  12  24 -30   2  20   4  34 -14  10  -4  -8\n",
      "   4 -16  18  12  -4   4   8 -10   4 -14  -4   8   0  18   0  -4   0  -8\n",
      " -14  -6   0   4   4 -20 -28  -2   2  -4   4 -22   4  -6  22   2   2  -2\n",
      "  14  10   8  -4 -32   6   4 -12 -14  -6 -24   2   2  12 -24   0   8   0\n",
      " -24  26  12  12  24  16  10   0   2  -8   0  -8  -8  -2  -2   8   4   4\n",
      " -20  18   4  16   4  -8  14 -26  -2  10   8 -22  12  -2  16  26   0   2\n",
      "   6 -10   8  12 -20 -26  -4  16 -10  -6 -40  14   8  16  12  14  -6  12\n",
      " -10  -2  -4 -12  -4 -16 -10  -8 -14   4 -12  -4  -8   6   2 -22 -26   2\n",
      " -18   8   4  12 -30 -20  -6  -2 -10  -4  -6  -4 -26   4  -2  -8 -30   8\n",
      "   6  -6  14  -2  -6 -16   2   0 -18  -2  -8  10  -6  14  14  20  -8  -4\n",
      "   6  12   8 -12   2 -10   0  12   2  -4   6  14 -12  12   2   4   6  -8\n",
      "   8 -12 -10  -2 -14 -12 -18  -2 -34   6   0   8  30 -14  14  14  -6  -4\n",
      "   0 -10   6 -24 -18  32  12   4   0   6  10  -6 -10   2   6   6  14  -8\n",
      "  18  -6  -2 -26  34 -10  10 -16 -22  -8 -26 -20  26  -2 -10  16 -14  18\n",
      "  10  -8  14  -4   2  12  14  -2  -2   8  -6  20 -18 -12  -2   6   0  18\n",
      "   2  12   0  -4   6  -2   6   6  -6   8 -10   2 -26  -4   4  -2 -24   8\n",
      "  16  12 -10  -4 -18  18   4  -6   2   2   6  18   6 -12 -18 -10  14 -14\n",
      " -24 -20 -10   0  16  12  -6   6   4  -6  -4 -12   0 -20   8 -24 -14 -42\n",
      "  24  -4  26   6   0   2  -6 -16  20   4  14   0   8  26   0  20  20 -16\n",
      "   0   8 -46   8   0 -10  -2   2   6  -8  10  10 -40  -6  -2  16   8  10\n",
      " -20  -6 -24  -6   2   8 -10  -2   8  -8   6 -12   0  18 -28   6   4 -14\n",
      " -16 -22   6  -8 -22 -22  -2 -22   8   6  -6  -8 -10  -2  -2  28  -2  18\n",
      " -16 -30  -6  -6 -20 -18   0 -10 -20  -6 -12   2 -16 -14 -18 -18 -12 -28\n",
      "  14 -14 -10  12  10   0 -10  20   8  12 -14  10  -2  -6   4  -2   2   6\n",
      "   4   8  10 -28 -10  12  10 -14   0 -26   6  12  -6  -8  -6  12  24   0\n",
      "  20  14  14   4  -2  14 -10  -6  -6  -2   2 -10 -22   8 -12 -16   0  -4\n",
      "  34  14  -4   0  -2  -2 -18  -2  18 -12 -12 -30   0   2   8  -2  12  14\n",
      "   8 -38   8  -4  -6  -8  16  32   8 -12 -12 -18  10  -2  10  -6 -12 -32\n",
      "  -8 -14  -2   6 -14  16  -8   2  18 -18  -4  -2  -8 -10  -2 -12 -14 -18\n",
      "  -2  10   2   4 -16   8  14  34 -20 -24 -10   0  -8   4 -12  12  14 -24\n",
      "   4   8 -14  16  -2 -32  -6   6 -22 -18  24  -2 -28  16  22  -2 -18  -4\n",
      "  -6  10  22 -34   4  -6   8 -24   0  14  10   6  -4 -20   8  -6 -10 -10\n",
      "  -8 -22   4  -8  20  32   2 -16  24  40  12   0  -6  36 -14  20   6 -10\n",
      "  -2  -4 -26  -2  28  -8  -8  -2 -12  -8  12  16 -30 -12  -8   4  -8  -4\n",
      " -12 -20   0  -2  -8  -8  16 -12  -4   2   4 -18  -8   2  -2  14  -6  -4\n",
      " -10 -16 -28  -8  18  -4  14  12  -8  -6  -8  28  12   6  -2  -4 -10  -6\n",
      " -24 -18   6  -8  -4   8  -8   6 -22   2  -8   0  -2   2   8 -20  -6  22\n",
      " -22  16   8   2 -12  -8 -24 -12   8  32   0 -10 -12   6 -14  -2  -6   8\n",
      "  10 -10 -22  12 -14  10   4  28  -8   0  -2 -10 -16   0  -2 -12  26  14\n",
      "  -6   8  26 -10  16 -20  -8  -4   8 -12  14   4   2  10  14 -12 -20  12\n",
      "  -4 -14   4 -12  14  12 -10  10 -12   8] \n",
      " 1000\n"
     ]
    }
   ],
   "source": [
    "nwalkers = 1000\n",
    "nsteps = 200\n",
    "walkers = np.random.randint(0,2,(nwalkers,nsteps))\n",
    "walkers[walkers == 0] = -1\n",
    "distances = walkers.sum(axis = 1)\n",
    "print('Distances for each walker:\\n',distances,'\\n', distances.shape[0])\n",
    "#distances_square = np.square(distances)\n",
    "walkers_square = np.square(walkers)"
   ]
  },
  {
   "cell_type": "code",
   "execution_count": null,
   "metadata": {},
   "outputs": [],
   "source": []
  }
 ],
 "metadata": {
  "kernelspec": {
   "display_name": "Python 3 (ipykernel)",
   "language": "python",
   "name": "python3"
  },
  "language_info": {
   "codemirror_mode": {
    "name": "ipython",
    "version": 3
   },
   "file_extension": ".py",
   "mimetype": "text/x-python",
   "name": "python",
   "nbconvert_exporter": "python",
   "pygments_lexer": "ipython3",
   "version": "3.8.6"
  }
 },
 "nbformat": 4,
 "nbformat_minor": 2
}
