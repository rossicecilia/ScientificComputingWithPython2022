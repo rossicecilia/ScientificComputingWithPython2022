{
 "cells": [
  {
   "cell_type": "code",
   "execution_count": 29,
   "id": "35192d0b",
   "metadata": {},
   "outputs": [
    {
     "name": "stdout",
     "output_type": "stream",
     "text": [
      "1\n",
      "2\n",
      "Hello\n",
      "4\n",
      "World\n",
      "Hello\n",
      "7\n",
      "8\n",
      "Hello\n",
      "World\n",
      "11\n",
      "Hello\n",
      "13\n",
      "14\n",
      "HelloWorld\n",
      "16\n",
      "17\n",
      "Hello\n",
      "19\n",
      "World\n",
      "Hello\n",
      "22\n",
      "23\n",
      "Hello\n",
      "World\n",
      "26\n",
      "Hello\n",
      "28\n",
      "29\n",
      "HelloWorld\n",
      "31\n",
      "32\n",
      "Hello\n",
      "34\n",
      "World\n",
      "Hello\n",
      "37\n",
      "38\n",
      "Hello\n",
      "World\n",
      "41\n",
      "Hello\n",
      "43\n",
      "44\n",
      "HelloWorld\n",
      "46\n",
      "47\n",
      "Hello\n",
      "49\n",
      "World\n",
      "Hello\n",
      "52\n",
      "53\n",
      "Hello\n",
      "World\n",
      "56\n",
      "Hello\n",
      "58\n",
      "59\n",
      "HelloWorld\n",
      "61\n",
      "62\n",
      "Hello\n",
      "64\n",
      "World\n",
      "Hello\n",
      "67\n",
      "68\n",
      "Hello\n",
      "World\n",
      "71\n",
      "Hello\n",
      "73\n",
      "74\n",
      "HelloWorld\n",
      "76\n",
      "77\n",
      "Hello\n",
      "79\n",
      "World\n",
      "Hello\n",
      "82\n",
      "83\n",
      "Hello\n",
      "World\n",
      "86\n",
      "Hello\n",
      "88\n",
      "89\n",
      "HelloWorld\n",
      "91\n",
      "92\n",
      "Hello\n",
      "94\n",
      "World\n",
      "Hello\n",
      "97\n",
      "98\n",
      "Hello\n",
      "World\n",
      "(1, 2, 'Python', 4, 'Works', 'Python', 7, 8, 'Python', 'Works', 11, 'Python', 13, 14, 'PythonWorks', 16, 17, 'Python', 19, 'Works', 'Python', 22, 23, 'Python', 'Works', 26, 'Python', 28, 29, 'PythonWorks', 31, 32, 'Python', 34, 'Works', 'Python', 37, 38, 'Python', 'Works', 41, 'Python', 43, 44, 'PythonWorks', 46, 47, 'Python', 49, 'Works', 'Python', 52, 53, 'Python', 'Works', 56, 'Python', 58, 59, 'PythonWorks', 61, 62, 'Python', 64, 'Works', 'Python', 67, 68, 'Python', 'Works', 71, 'Python', 73, 74, 'PythonWorks', 76, 77, 'Python', 79, 'Works', 'Python', 82, 83, 'Python', 'Works', 86, 'Python', 88, 89, 'PythonWorks', 91, 92, 'Python', 94, 'Works', 'Python', 97, 98, 'Python', 'Works')\n"
     ]
    }
   ],
   "source": [
    "#Esercizio 1\n",
    "\n",
    "lista = list()\n",
    "for i in range(100):\n",
    "    i += 1\n",
    "    res = ''\n",
    "    if i % 3 == 0:\n",
    "        res += 'Hello'\n",
    "    if i % 5 == 0:\n",
    "        res += 'World'\n",
    "    if i % 3 != 0 and i % 5 != 0:\n",
    "        print(i)\n",
    "        lista.append(i)\n",
    "        continue\n",
    "    print(res)\n",
    "    lista.append(res)\n",
    "\n",
    "for k in range(100):\n",
    "    el = lista[k]\n",
    "    if isinstance(el,int):\n",
    "        continue\n",
    "    else:\n",
    "            lista[k] = el.replace('Hello','Python')\n",
    "            lista[k] = lista[k].replace('World','Works')\n",
    "        \n",
    "tupla = tuple(lista)\n",
    "#print(tupla)\n"
   ]
  },
  {
   "cell_type": "code",
   "execution_count": 30,
   "id": "eac99213",
   "metadata": {},
   "outputs": [
    {
     "name": "stdout",
     "output_type": "stream",
     "text": [
      "Inserire il valore della prima variabile: 'Mamma'\n",
      "Inserire il valore della seconda variabile: 12\n",
      "12\n",
      "'Mamma'\n"
     ]
    }
   ],
   "source": [
    "#Esercizio 2\n",
    "x = input('Inserire il valore della prima variabile: ')\n",
    "y = input('Inserire il valore della seconda variabile: ')\n",
    "(x,y) = (y,x)\n",
    "print(x)\n",
    "print(y)"
   ]
  },
  {
   "cell_type": "code",
   "execution_count": 34,
   "id": "d452d04c",
   "metadata": {},
   "outputs": [
    {
     "data": {
      "text/plain": [
       "5.0"
      ]
     },
     "execution_count": 34,
     "metadata": {},
     "output_type": "execute_result"
    }
   ],
   "source": [
    "#Esercizio 3\n",
    "import math\n",
    "\n",
    "def distance(u,v):\n",
    "    d = math.sqrt((u[0]-v[0])**2 + (u[1]-v[1])**2)\n",
    "    return d\n",
    "\n",
    "u = (3,0)\n",
    "v = (0,4)\n",
    "distance(u,v)"
   ]
  },
  {
   "cell_type": "code",
   "execution_count": 36,
   "id": "a0dedf61",
   "metadata": {},
   "outputs": [
    {
     "name": "stdout",
     "output_type": "stream",
     "text": [
      "{'W': 4, 'R': 19, 'I': 12, 'T': 19, 'E': 20, ' ': 41, 'A': 7, 'P': 8, 'O': 15, 'G': 1, 'M': 8, 'H': 11, 'N': 10, 'S': 7, 'U': 7, 'B': 5, 'F': 10, '1': 2, '0': 2, '.': 3, 'L': 12, 'D': 5, 'V': 2, 'C': 1}\n",
      "{'T': 2, 'H': 2, 'E': 3, ' ': 8, 'Q': 1, 'U': 2, 'I': 1, 'C': 1, 'K': 1, 'B': 1, 'R': 2, 'O': 4, 'W': 1, 'N': 1, 'F': 1, 'X': 1, 'J': 1, 'M': 1, 'P': 1, 'S': 1, 'V': 1, 'L': 1, 'A': 1, 'Z': 1, 'Y': 1, 'D': 1, 'G': 1}\n"
     ]
    }
   ],
   "source": [
    "#Esercizio 4\n",
    "\n",
    "def letterCount(s):\n",
    "    counts = dict()\n",
    "    for car in s.upper():\n",
    "        if car not in counts:\n",
    "            counts[car] = 1\n",
    "        else:\n",
    "            counts[car] += 1\n",
    "    return counts\n",
    "\n",
    "s1 = \"Write a program that prints the numbers from 1 to 100. \\\n",
    "But for multiples of three print Hello instead of the number and for the multiples of five print World. \\\n",
    "For numbers which are multiples of both three and five print HelloWorld.\"\n",
    "s2 = \"The quick brown fox jumps over the lazy dog\"\n",
    "\n",
    "counts1 = letterCount(s1)\n",
    "print(counts1)\n",
    "counts2 = letterCount(s2)\n",
    "print(counts2)"
   ]
  },
  {
   "cell_type": "code",
   "execution_count": 60,
   "id": "9663571b",
   "metadata": {},
   "outputs": [
    {
     "name": "stdout",
     "output_type": "stream",
     "text": [
      "[58, 74, 96, 64, 10, 24, 19, 33, 86, 99, 18, 47, 88, 55, 54, 8, 79, 81, 57, 37, 1, 9, 95, 90, 98, 39, 16, 82, 92, 41, 30, 94, 5, 72, 87, 75, 53] 37\n",
      "[58, 74, 96, 64, 10, 24, 19, 33, 86, 99, 18, 47, 88, 55, 54, 8, 79, 81, 57, 37, 1, 9, 95, 90, 98, 39, 16, 82, 92, 41, 30, 94, 5, 72, 87, 75, 53] 37\n"
     ]
    }
   ],
   "source": [
    "#Esercizio 5\n",
    "\n",
    "#Programma Lento\n",
    "def findUniques(lista):\n",
    "    uniques = list()\n",
    "    for i in range(len(lista)):\n",
    "        car = lista[i]\n",
    "        lista_new = lista[:]\n",
    "        lista_new[i] = ''\n",
    "        if car not in lista_new:\n",
    "            uniques.append(car)\n",
    "    return (uniques)\n",
    "\n",
    "l = [36, 45, 58, 3, 74, 96, 64, 45, 31, 10, 24, 19, 33, 86, 99, 18, 63, 70, 85,\n",
    " 85, 63, 47, 56, 42, 70, 84, 88, 55, 20, 54, 8, 56, 51, 79, 81, 57, 37, 91,\n",
    " 1, 84, 84, 36, 66, 9, 89, 50, 42, 91, 50, 95, 90, 98, 39, 16, 82, 31, 92, 41,\n",
    " 45, 30, 66, 70, 34, 85, 94, 5, 3, 36, 72, 91, 84, 34, 87, 75, 53, 51, 20, 89, 51, 20]\n",
    "uniques = findUniques(l)\n",
    "print(uniques, len(uniques))\n",
    "\n",
    "#Programma Veloce (?)\n",
    "def findOccurrences(lista):\n",
    "    counts = dict()\n",
    "    for car in lista:\n",
    "        if car not in counts:\n",
    "            counts[car] = 1\n",
    "        else:\n",
    "            counts[car] += 1\n",
    "    return counts\n",
    "\n",
    "counts = findOccurrences(l)\n",
    "uniques2 = list()\n",
    "for key in counts:\n",
    "    if counts[key] == 1:\n",
    "        uniques2.append(key)\n",
    "print(uniques2, len(uniques2))\n"
   ]
  },
  {
   "cell_type": "code",
   "execution_count": 77,
   "id": "fc338d49",
   "metadata": {},
   "outputs": [
    {
     "name": "stdout",
     "output_type": "stream",
     "text": [
      "Inserire la prima variabile (int, float o str): 3\n",
      "Inserire la seconda variabile (int, float o str): 2\n",
      "Il risultato è: 5\n"
     ]
    }
   ],
   "source": [
    "#Esercizio 6\n",
    "x = input('Inserire la prima variabile (int, float o str): ')\n",
    "y = input('Inserire la seconda variabile (int, float o str): ')\n",
    "\n",
    "try: #x è un intero\n",
    "    x = float(x)\n",
    "    try: #anche y è un numero\n",
    "        y = float(y)\n",
    "        res = x + y\n",
    "        if res % 1 == 0:\n",
    "            res = int(res)\n",
    "        print('Il risultato è:', res)\n",
    "    except: #y è una stringa\n",
    "        print(\"Non è possibile eseguire l'operazione tra le due variabili\")\n",
    "except: #x è una stringa\n",
    "    try: \n",
    "        y = float(y) \n",
    "        print(\"Non è possibile eseguire l'operazione tra le due variabili\")\n",
    "    except: #anche y è una stringa\n",
    "            res = x+y\n",
    "            print('Il risultato è:', res)\n",
    "\n",
    "        \n",
    "#Non tenendo conto del fatto che tutti i valori passati a Python vengono trasformati in stringhe\n",
    "\n",
    "#x = input('Inserire la prima variabile (int, float o str): ')\n",
    "#y = input('Inserire la seconda variabile (int, float o str): ')\n",
    "#    \n",
    "#try: \n",
    "#    res = x + y\n",
    "#    print('Il risultato è: ', res)\n",
    "#except:\n",
    "#    print(\"Non è possibile eseguire l'operazione tra le due variabili\")\n"
   ]
  },
  {
   "cell_type": "code",
   "execution_count": 81,
   "id": "d5d204dd",
   "metadata": {},
   "outputs": [
    {
     "name": "stdout",
     "output_type": "stream",
     "text": [
      "['', [['x']], [['x', 'x'], ['x', 'x']], [['x', 'x', 'x'], ['x', 'x', 'x'], ['x', 'x', 'x']], [['x', 'x', 'x', 'x'], ['x', 'x', 'x', 'x'], ['x', 'x', 'x', 'x'], ['x', 'x', 'x', 'x']], [['x', 'x', 'x', 'x', 'x'], ['x', 'x', 'x', 'x', 'x'], ['x', 'x', 'x', 'x', 'x'], ['x', 'x', 'x', 'x', 'x'], ['x', 'x', 'x', 'x', 'x']], [['x', 'x', 'x', 'x', 'x', 'x'], ['x', 'x', 'x', 'x', 'x', 'x'], ['x', 'x', 'x', 'x', 'x', 'x'], ['x', 'x', 'x', 'x', 'x', 'x'], ['x', 'x', 'x', 'x', 'x', 'x'], ['x', 'x', 'x', 'x', 'x', 'x']], [['x', 'x', 'x', 'x', 'x', 'x', 'x'], ['x', 'x', 'x', 'x', 'x', 'x', 'x'], ['x', 'x', 'x', 'x', 'x', 'x', 'x'], ['x', 'x', 'x', 'x', 'x', 'x', 'x'], ['x', 'x', 'x', 'x', 'x', 'x', 'x'], ['x', 'x', 'x', 'x', 'x', 'x', 'x'], ['x', 'x', 'x', 'x', 'x', 'x', 'x']], [['x', 'x', 'x', 'x', 'x', 'x', 'x', 'x'], ['x', 'x', 'x', 'x', 'x', 'x', 'x', 'x'], ['x', 'x', 'x', 'x', 'x', 'x', 'x', 'x'], ['x', 'x', 'x', 'x', 'x', 'x', 'x', 'x'], ['x', 'x', 'x', 'x', 'x', 'x', 'x', 'x'], ['x', 'x', 'x', 'x', 'x', 'x', 'x', 'x'], ['x', 'x', 'x', 'x', 'x', 'x', 'x', 'x'], ['x', 'x', 'x', 'x', 'x', 'x', 'x', 'x']], [['x', 'x', 'x', 'x', 'x', 'x', 'x', 'x', 'x'], ['x', 'x', 'x', 'x', 'x', 'x', 'x', 'x', 'x'], ['x', 'x', 'x', 'x', 'x', 'x', 'x', 'x', 'x'], ['x', 'x', 'x', 'x', 'x', 'x', 'x', 'x', 'x'], ['x', 'x', 'x', 'x', 'x', 'x', 'x', 'x', 'x'], ['x', 'x', 'x', 'x', 'x', 'x', 'x', 'x', 'x'], ['x', 'x', 'x', 'x', 'x', 'x', 'x', 'x', 'x'], ['x', 'x', 'x', 'x', 'x', 'x', 'x', 'x', 'x'], ['x', 'x', 'x', 'x', 'x', 'x', 'x', 'x', 'x']], [['x', 'x', 'x', 'x', 'x', 'x', 'x', 'x', 'x', 'x'], ['x', 'x', 'x', 'x', 'x', 'x', 'x', 'x', 'x', 'x'], ['x', 'x', 'x', 'x', 'x', 'x', 'x', 'x', 'x', 'x'], ['x', 'x', 'x', 'x', 'x', 'x', 'x', 'x', 'x', 'x'], ['x', 'x', 'x', 'x', 'x', 'x', 'x', 'x', 'x', 'x'], ['x', 'x', 'x', 'x', 'x', 'x', 'x', 'x', 'x', 'x'], ['x', 'x', 'x', 'x', 'x', 'x', 'x', 'x', 'x', 'x'], ['x', 'x', 'x', 'x', 'x', 'x', 'x', 'x', 'x', 'x'], ['x', 'x', 'x', 'x', 'x', 'x', 'x', 'x', 'x', 'x'], ['x', 'x', 'x', 'x', 'x', 'x', 'x', 'x', 'x', 'x']]]\n"
     ]
    }
   ],
   "source": [
    "#Esercizio 7\n",
    "\n",
    "cubes = []\n",
    "\n",
    "for i in range(11):\n",
    "    if i == 0:\n",
    "        cubes.append('')\n",
    "    else:\n",
    "        cubo = []\n",
    "        for rig in range(i):\n",
    "            riga = []\n",
    "            for col in range(i):\n",
    "                riga.append('x')\n",
    "            cubo.append(riga)\n",
    "        cubes.append(cubo)\n",
    "\n",
    "print(cubes) "
   ]
  },
  {
   "cell_type": "code",
   "execution_count": 85,
   "id": "6924b604",
   "metadata": {},
   "outputs": [
    {
     "name": "stdout",
     "output_type": "stream",
     "text": [
      "[(0, 0), (0, 1), (0, 2), (0, 3), (1, 0), (1, 1), (1, 2), (1, 3), (2, 0), (2, 1), (2, 2), (2, 3)]\n"
     ]
    }
   ],
   "source": [
    "#Esercizio 8\n",
    "print([(i,j) for i in range(3) for j in range(4)])"
   ]
  },
  {
   "cell_type": "code",
   "execution_count": 96,
   "id": "6eaa0ab2",
   "metadata": {},
   "outputs": [
    {
     "name": "stdout",
     "output_type": "stream",
     "text": [
      "((3, 4, 5), (4, 3, 5), (5, 12, 13), (6, 8, 10), (7, 24, 25), (8, 6, 10), (8, 15, 17), (9, 12, 15), (9, 40, 41), (10, 24, 26), (11, 60, 61), (12, 5, 13), (12, 9, 15), (12, 16, 20), (12, 35, 37), (13, 84, 85), (14, 48, 50), (15, 8, 17), (15, 20, 25), (15, 36, 39), (16, 12, 20), (16, 30, 34), (16, 63, 65), (18, 24, 30), (18, 80, 82), (20, 15, 25), (20, 21, 29), (20, 48, 52), (21, 20, 29), (21, 28, 35), (21, 72, 75), (24, 7, 25), (24, 10, 26), (24, 18, 30), (24, 32, 40), (24, 45, 51), (24, 70, 74), (25, 60, 65), (27, 36, 45), (28, 21, 35), (28, 45, 53), (30, 16, 34), (30, 40, 50), (30, 72, 78), (32, 24, 40), (32, 60, 68), (33, 44, 55), (33, 56, 65), (35, 12, 37), (35, 84, 91), (36, 15, 39), (36, 27, 45), (36, 48, 60), (36, 77, 85), (39, 52, 65), (39, 80, 89), (40, 9, 41), (40, 30, 50), (40, 42, 58), (40, 75, 85), (42, 40, 58), (42, 56, 70), (44, 33, 55), (45, 24, 51), (45, 28, 53), (45, 60, 75), (48, 14, 50), (48, 20, 52), (48, 36, 60), (48, 55, 73), (48, 64, 80), (51, 68, 85), (52, 39, 65), (54, 72, 90), (55, 48, 73), (56, 33, 65), (56, 42, 70), (57, 76, 95), (60, 11, 61), (60, 25, 65), (60, 32, 68), (60, 45, 75), (60, 63, 87), (63, 16, 65), (63, 60, 87), (64, 48, 80), (65, 72, 97), (68, 51, 85), (70, 24, 74), (72, 21, 75), (72, 30, 78), (72, 54, 90), (72, 65, 97), (75, 40, 85), (76, 57, 95), (77, 36, 85), (80, 18, 82), (80, 39, 89), (84, 13, 85), (84, 35, 91))\n"
     ]
    }
   ],
   "source": [
    "#Esercizio 9\n",
    "import math\n",
    "pythagorean = tuple([(a, b, int(math.sqrt(a**2 + b**2))) for a in range(100) for b in range(100) if a != 0 and b!= 0 and math.sqrt(a**2 + b**2) % 1 == 0 and math.sqrt(a**2 + b**2) < 100])\n",
    "print(pythagorean)"
   ]
  },
  {
   "cell_type": "code",
   "execution_count": 101,
   "id": "a56861b4",
   "metadata": {},
   "outputs": [
    {
     "name": "stdout",
     "output_type": "stream",
     "text": [
      "(0.5345224838248488, 0.2672612419124244, 0.8017837257372732)\n",
      "1.0\n"
     ]
    }
   ],
   "source": [
    "#Esercizio 10\n",
    "\n",
    "tupla = (2,1,3)\n",
    "quadr = [x**2 for x in tupla]\n",
    "norma = math.sqrt(sum(quadr))\n",
    "tupla_norm = tuple([x/norma for x in tupla])\n",
    "print(tupla_norm)\n",
    "#verifico\n",
    "print(math.sqrt(sum([x**2 for x in tupla_norm])))"
   ]
  },
  {
   "cell_type": "code",
   "execution_count": 103,
   "id": "4aac1481",
   "metadata": {},
   "outputs": [
    {
     "name": "stdout",
     "output_type": "stream",
     "text": [
      "[0, 1, 1, 2, 3, 5, 8, 13, 21, 34, 55, 89, 144, 233, 377, 610, 987, 1597, 2584, 4181]\n"
     ]
    },
    {
     "data": {
      "text/plain": [
       "20"
      ]
     },
     "execution_count": 103,
     "metadata": {},
     "output_type": "execute_result"
    }
   ],
   "source": [
    "#Esercizio 11\n",
    "fibonacci = list()\n",
    "for i in range(20):\n",
    "    if i == 0 or i == 1:\n",
    "        fibonacci.append(i)\n",
    "    else:\n",
    "        fibonacci.append(fibonacci[i-1]+fibonacci[i-2])\n",
    "print(fibonacci)\n"
   ]
  },
  {
   "cell_type": "code",
   "execution_count": null,
   "id": "b168a94d",
   "metadata": {},
   "outputs": [],
   "source": []
  }
 ],
 "metadata": {
  "kernelspec": {
   "display_name": "Python 3 (ipykernel)",
   "language": "python",
   "name": "python3"
  },
  "language_info": {
   "codemirror_mode": {
    "name": "ipython",
    "version": 3
   },
   "file_extension": ".py",
   "mimetype": "text/x-python",
   "name": "python",
   "nbconvert_exporter": "python",
   "pygments_lexer": "ipython3",
   "version": "3.8.6"
  }
 },
 "nbformat": 4,
 "nbformat_minor": 5
}
