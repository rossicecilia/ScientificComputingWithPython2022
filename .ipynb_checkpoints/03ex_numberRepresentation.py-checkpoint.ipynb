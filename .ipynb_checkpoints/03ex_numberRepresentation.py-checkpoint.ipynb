{
 "cells": [
  {
   "cell_type": "code",
   "execution_count": 1,
   "id": "238b0413",
   "metadata": {},
   "outputs": [
    {
     "name": "stdout",
     "output_type": "stream",
     "text": [
      "Binario in Intero:  0b10111 23 23\n",
      "Intero in Binario:  23 0b10111 0b10111\n",
      "Binario in Esadecimale:  0b10111 0x17 0x17\n",
      "Esadecimale in binario: 0x17 0b10111 0b10111\n",
      "Intero in esadecimale:  23 0x17 0x17\n",
      "Esadecimale in Intero:  0x17 23 23\n"
     ]
    }
   ],
   "source": [
    "# (OK) Esercizio 1\n",
    "\n",
    "def convertNumRepresentation(num, newtype):\n",
    "    #fornire newtype: dec = decimale, bin = binario, hex = esadecimale\n",
    "    if isinstance(num,float):\n",
    "        raise Error\n",
    "    else:\n",
    "        if isinstance(num,str): #è binario o esadecimale\n",
    "            if num.startswith('0b'):\n",
    "                oldtype = 'bin'\n",
    "                try: \n",
    "                    num = int(num,2)\n",
    "                except: \n",
    "                    raise Error('The input is not a binary number')\n",
    "            elif num.startswith('0x'):\n",
    "                oldtype = 'hex'\n",
    "                try:\n",
    "                    num = int(num, 16)\n",
    "                except:\n",
    "                    raise Error('The input is not an hexadecimal number')\n",
    "        else:\n",
    "            oldtype = 'dec'\n",
    "        \n",
    "        if oldtype != newtype:\n",
    "            if newtype == 'dec':\n",
    "                return num\n",
    "            elif newtype == 'bin':\n",
    "                return bin(num)\n",
    "            else:\n",
    "                return hex(num)\n",
    "        else:\n",
    "            return num\n",
    "            \n",
    "\n",
    "#Test\n",
    "a = bin(23)\n",
    "b = 23\n",
    "c = hex(23)\n",
    "\n",
    "print('Binario in Intero: ', a, str(b), convertNumRepresentation(a,'dec'))\n",
    "print('Intero in Binario: ',  str(b), a, convertNumRepresentation(b,'bin'))\n",
    "print('Binario in Esadecimale: ', a, c, convertNumRepresentation(a,'hex'))\n",
    "print('Esadecimale in binario:', c, a, convertNumRepresentation(c,'bin'))\n",
    "print('Intero in esadecimale: ',b, c, convertNumRepresentation(b,'hex'))\n",
    "print('Esadecimale in Intero: ', c, b, convertNumRepresentation(c, 'dec'))"
   ]
  },
  {
   "cell_type": "code",
   "execution_count": 2,
   "id": "b4130a54",
   "metadata": {},
   "outputs": [
    {
     "name": "stdout",
     "output_type": "stream",
     "text": [
      "-84.133952\n"
     ]
    }
   ],
   "source": [
    "# (OK) Esercizio 2:\n",
    "\n",
    "def singlePrecisionFloat(binstr):\n",
    "    bias = 127\n",
    "    \n",
    "    #primo bit = segno\n",
    "    if binstr[0] == 0: #31\n",
    "        s = -1\n",
    "    else:\n",
    "        s = +1\n",
    "        \n",
    "    #bit dall'1 all'8 = esponente\n",
    "    espon = binstr[1:9]\n",
    "    espon = '0b'+str(espon)\n",
    "    e = int(espon,2)\n",
    "    \n",
    "    #mantissa da 9 a 32\n",
    "    mantissa = binstr[9:32]\n",
    "    mantissa = '0b'+ str(mantissa)\n",
    "    f = int(mantissa,2)\n",
    "    n = len(str(f))\n",
    "    \n",
    "    \n",
    "    #Ricostruisco il numero in singola precisione\n",
    "    \n",
    "    float_num = ((-1)*s)*(1+(int(f)*(10**(-n))))*(2**(e-bias))\n",
    "    return float_num\n",
    "\n",
    "a = '11000010101100000000000011001010'\n",
    "f_num = singlePrecisionFloat(a)\n",
    "print(f_num)"
   ]
  },
  {
   "cell_type": "code",
   "execution_count": null,
   "id": "dee8b255",
   "metadata": {},
   "outputs": [],
   "source": [
    "#Esercizio 3 --> così non arriva al risultato (ciclo infito o troppi calcoli?)\n",
    "\n",
    "def findOverflow:\n",
    "    overflow = 1.0\n",
    "    up_limit = False\n",
    "    while not up_limit:\n",
    "        overflow_new = overflow*2\n",
    "        if overflow_new == float('inf'):\n",
    "            up_limit = True\n",
    "        else:\n",
    "            overflow = overflow_new\n",
    "    return overflow\n",
    "\n",
    "def findUnderflow:\n",
    "    underflow = 1.0\n",
    "    down_limit = False\n",
    "    while not up_limit:\n",
    "        underflow_new = underflow/2\n",
    "        if underflow_new == float('inf'):\n",
    "            down_limit = True\n",
    "        else:\n",
    "            underflow = underflow_new\n",
    "    return underflow\n",
    "    "
   ]
  },
  {
   "cell_type": "code",
   "execution_count": null,
   "id": "3e0c47c2",
   "metadata": {},
   "outputs": [],
   "source": [
    "#Esercizio 3\n",
    "\n",
    "underflow = 1.0\n",
    "overflow = 1.0\n",
    "up_limit = False\n",
    "down_limit = False\n",
    "\n",
    "#Calcolo l'overflow\n",
    "while not up_limit:\n",
    "    overflow_new = overflow*2\n",
    "    if overflow_new == float('inf'):\n",
    "        up_limit = True\n",
    "    else:\n",
    "        overflow = overflow_new\n",
    "\n",
    "print('The overflow for floating point in my computer is: ', overflow)\n",
    "\n",
    "#Calcolo l'underflow\n",
    "while not down_limit:\n",
    "    underflow_new = underflow/2\n",
    "    if underflow_new == float('-inf'):\n",
    "        down_limit = True\n",
    "    else:\n",
    "        underflow = underflow_new\n",
    "\n",
    "print('The underflow for floating point in my computer is: ', underflow)"
   ]
  },
  {
   "cell_type": "code",
   "execution_count": null,
   "id": "b129957e",
   "metadata": {},
   "outputs": [],
   "source": [
    "#Esercizio 4\n",
    "\n",
    "epsilon = 0.1\n"
   ]
  },
  {
   "cell_type": "code",
   "execution_count": 1,
   "id": "ad34c74c",
   "metadata": {},
   "outputs": [
    {
     "ename": "SyntaxError",
     "evalue": "invalid syntax (2441777093.py, line 46)",
     "output_type": "error",
     "traceback": [
      "\u001b[0;36m  Cell \u001b[0;32mIn [1], line 46\u001b[0;36m\u001b[0m\n\u001b[0;31m    elif delta.hex() == 0.hex():\u001b[0m\n\u001b[0m                          ^\u001b[0m\n\u001b[0;31mSyntaxError\u001b[0m\u001b[0;31m:\u001b[0m invalid syntax\n"
     ]
    }
   ],
   "source": [
    "# Esercizio 5\n",
    "import math\n",
    "\n",
    "def quadraticSolution_a(a,b,c):\n",
    "    #ritorna la soluzione di ax^2 + bx + c = 0\n",
    "    delta = b**2 - 4*a*c\n",
    "    if delta < 0:\n",
    "        print('There is no solution to the system')\n",
    "        return\n",
    "    elif delta == 0:\n",
    "        print('The system is indeterminate')\n",
    "        return\n",
    "    else:\n",
    "        x1 = (- b - math.sqrt(delta)) / 2*a\n",
    "        x2 = (- b + math.sqrt(delta)) / 2*a\n",
    "        return x1, x2\n",
    "\n",
    "a = 0.001\n",
    "b = 1000\n",
    "c = 0.001\n",
    "\n",
    "print(quadraticSolution_a(a,b,c))\n",
    "\n",
    "def quadraticSolution_b(a,b,c):\n",
    "    delta = b**2 - 4*a*c\n",
    "    if delta < 0:\n",
    "        print('There is no solution to the system')\n",
    "        return\n",
    "    elif delta == 0:\n",
    "        print('The system is indeterminate')\n",
    "        return\n",
    "    else:\n",
    "        x1 =  2*c / (-b + math.sqrt(delta))\n",
    "        x2 = 2*c / (- b - math.sqrt(delta))\n",
    "        return x1, x2\n",
    "\n",
    "print(quadraticSolution_a(a,b,c))\n",
    "print(quadraticSolution_b(a,b,c))\n",
    "\n",
    "def quadraticSolution(a,b,c):\n",
    "    #ritorna la soluzione di ax^2 + bx + c = 0, che sia sempre vera\n",
    "    delta = b**2 - 4*a*c\n",
    "    if delta < 0:\n",
    "        print('There is no solution to the system')\n",
    "        return\n",
    "    elif delta.hex() == 0.hex():\n",
    "        print('The system is indeterminate')\n",
    "        return\n",
    "    else:\n",
    "        x1 = (- b - math.sqrt(delta)) / 2*a\n",
    "        x2 = (- b + math.sqrt(delta)) / 2*a\n",
    "        return x1,x2\n",
    "\n",
    "print(quadraticSolution(a,b,c))"
   ]
  },
  {
   "cell_type": "code",
   "execution_count": 11,
   "id": "12049e22",
   "metadata": {},
   "outputs": [
    {
     "data": {
      "text/plain": [
       "False"
      ]
     },
     "execution_count": 11,
     "metadata": {},
     "output_type": "execute_result"
    }
   ],
   "source": [
    "a = 78\n",
    "type(a)\n",
    "type(a) == type(float(a))"
   ]
  },
  {
   "cell_type": "code",
   "execution_count": 4,
   "id": "a684f617",
   "metadata": {},
   "outputs": [
    {
     "name": "stdout",
     "output_type": "stream",
     "text": [
      "True\n"
     ]
    }
   ],
   "source": [
    "b = 1.797693134862316e+308\n",
    "b_lim = 1.7976931348623157e+308\n",
    "b_lim = b_lim * 2\n",
    "print(b_lim == float('inf'))"
   ]
  },
  {
   "cell_type": "code",
   "execution_count": null,
   "id": "d4ddee37",
   "metadata": {},
   "outputs": [],
   "source": []
  }
 ],
 "metadata": {
  "kernelspec": {
   "display_name": "Python 3 (ipykernel)",
   "language": "python",
   "name": "python3"
  },
  "language_info": {
   "codemirror_mode": {
    "name": "ipython",
    "version": 3
   },
   "file_extension": ".py",
   "mimetype": "text/x-python",
   "name": "python",
   "nbconvert_exporter": "python",
   "pygments_lexer": "ipython3",
   "version": "3.8.6"
  }
 },
 "nbformat": 4,
 "nbformat_minor": 5
}
