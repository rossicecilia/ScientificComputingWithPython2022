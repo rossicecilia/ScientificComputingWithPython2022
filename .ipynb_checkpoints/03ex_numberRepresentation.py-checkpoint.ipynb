{
 "cells": [
  {
   "cell_type": "code",
   "execution_count": 1,
   "id": "238b0413",
   "metadata": {},
   "outputs": [
    {
     "name": "stdout",
     "output_type": "stream",
     "text": [
      "Binario in Intero:  0b10111 23 23\n",
      "Intero in Binario:  23 0b10111 0b10111\n",
      "Binario in Esadecimale:  0b10111 0x17 0x17\n",
      "Esadecimale in binario: 0x17 0b10111 0b10111\n",
      "Intero in esadecimale:  23 0x17 0x17\n",
      "Esadecimale in Intero:  0x17 23 23\n"
     ]
    }
   ],
   "source": [
    "#Esercizio 1\n",
    "\n",
    "def convertNumRepresentation(num, newtype):\n",
    "    #fornire newtype: dec = decimale, bin = binario, hex = esadecimale\n",
    "    if isinstance(num,float):\n",
    "        raise ValueError('You cannot use this function in order to convert floating point numbers')\n",
    "    else:\n",
    "        if isinstance(num,str): #è binario o esadecimale\n",
    "            if num.startswith('0b'):\n",
    "                oldtype = 'bin'\n",
    "                try: \n",
    "                    num = int(num,2)\n",
    "                except: \n",
    "                    raise ValueError('The input is not correct')\n",
    "            elif num.startswith('0x'):\n",
    "                oldtype = 'hex'\n",
    "                try:\n",
    "                    num = int(num, 16)\n",
    "                except:\n",
    "                    raise Error('The input is not correct')\n",
    "        else:\n",
    "            oldtype = 'dec'\n",
    "        \n",
    "        if oldtype != newtype:\n",
    "            if newtype == 'dec':\n",
    "                return num\n",
    "            elif newtype == 'bin':\n",
    "                return bin(num)\n",
    "            else:\n",
    "                return hex(num)\n",
    "        else:\n",
    "            return num\n",
    "            \n",
    "\n",
    "#Test\n",
    "a = bin(23)\n",
    "b = 23\n",
    "c = hex(23)\n",
    "\n",
    "print('Binario in Intero: ', a, str(b), convertNumRepresentation(a,'dec'))\n",
    "print('Intero in Binario: ',  str(b), a, convertNumRepresentation(b,'bin'))\n",
    "print('Binario in Esadecimale: ', a, c, convertNumRepresentation(a,'hex'))\n",
    "print('Esadecimale in binario:', c, a, convertNumRepresentation(c,'bin'))\n",
    "print('Intero in esadecimale: ',b, c, convertNumRepresentation(b,'hex'))\n",
    "print('Esadecimale in Intero: ', c, b, convertNumRepresentation(c, 'dec'))"
   ]
  },
  {
   "cell_type": "code",
   "execution_count": 18,
   "id": "b4130a54",
   "metadata": {},
   "outputs": [
    {
     "name": "stdout",
     "output_type": "stream",
     "text": [
      "129\n",
      "1.375\n",
      "-5.5\n"
     ]
    }
   ],
   "source": [
    "#Esercizio 2:\n",
    "\n",
    "def singlePrecisionFloat(binstr):\n",
    "    bias = 127\n",
    "    \n",
    "    #primo bit = segno\n",
    "    if int(binstr[0]) == 0: \n",
    "        s = +1\n",
    "    else:\n",
    "        s = -1\n",
    "    \n",
    "    #bit dall'1 all'8 = esponente\n",
    "    espon = binstr[1:9] \n",
    "    espon = '0b'+str(espon) #OK\n",
    "    e = int(espon,2)\n",
    "    print(e)\n",
    "    #mantissa da 9 a 32\n",
    "    mantissa = binstr[9:32] \n",
    "    #mantissa = '0b'+ str(mantissa) \n",
    "    f = 1\n",
    "    i = 1\n",
    "    for m in mantissa:\n",
    "        f += int(m)/(2**i)\n",
    "        i += 1\n",
    "    print(f)\n",
    "    #Ricostruisco il numero in singola precisione\n",
    "    float_num = (s*f*(2**(e-bias)))\n",
    "    return float_num\n",
    "\n",
    "#Test\n",
    "a = '00000011111000000000000000000000'\n",
    "b = '11000000101100000000000000000000'\n",
    "f_num = singlePrecisionFloat(b)\n",
    "print(f_num)"
   ]
  },
  {
   "cell_type": "code",
   "execution_count": 19,
   "id": "3e0c47c2",
   "metadata": {},
   "outputs": [
    {
     "name": "stdout",
     "output_type": "stream",
     "text": [
      "The overflow for floating point in my computer is:  8.98846567431158e+307\n",
      "The underflow for floating point in my computer is:  5e-324\n",
      "8.98846567431158e+307\n",
      "5e-324\n"
     ]
    }
   ],
   "source": [
    "#Esercizio 3\n",
    "\n",
    "underflow = 1.0\n",
    "overflow = 1.0\n",
    "up_limit = False\n",
    "down_limit = False\n",
    "\n",
    "#Calcolo l'overflow\n",
    "while not up_limit:\n",
    "    overflow_new = overflow*2\n",
    "    if overflow_new == float('inf'):\n",
    "        up_limit = True\n",
    "    else:\n",
    "        overflow = overflow_new\n",
    "\n",
    "print('The overflow for floating point in my computer is: ', overflow)\n",
    "\n",
    "#Calcolo l'underflow\n",
    "while not down_limit:\n",
    "    underflow_new = underflow/2\n",
    "    if underflow_new == float(0.0):\n",
    "        down_limit = True\n",
    "    else:\n",
    "        underflow = underflow_new\n",
    "\n",
    "print('The underflow for floating point in my computer is: ', underflow)\n",
    "\n",
    "#Trasformo in funzioni\n",
    "\n",
    "def findOverflow():\n",
    "    overflow = 1.0\n",
    "    up_limit = False\n",
    "    while not up_limit:\n",
    "        overflow_new = overflow*2\n",
    "        if overflow_new == float('inf'):\n",
    "            up_limit = True\n",
    "        else:\n",
    "            overflow = overflow_new\n",
    "    return overflow\n",
    "\n",
    "def findUnderflow():\n",
    "    underflow = 1.0\n",
    "    down_limit = False\n",
    "    while not down_limit:\n",
    "        underflow_new = underflow/2\n",
    "        if underflow_new == float(0.0):\n",
    "            down_limit = True\n",
    "        else:\n",
    "            underflow = underflow_new\n",
    "    return underflow\n",
    "\n",
    "print(findOverflow())\n",
    "print(findUnderflow())"
   ]
  },
  {
   "cell_type": "code",
   "execution_count": 20,
   "id": "b129957e",
   "metadata": {},
   "outputs": [
    {
     "name": "stdout",
     "output_type": "stream",
     "text": [
      "The machine precision is in the order of:  1.0000000000000001e-16\n"
     ]
    }
   ],
   "source": [
    "#Esercizio 4\n",
    "\n",
    "a = 4.5\n",
    "epsilon = 0.001\n",
    "accuracy = True\n",
    "\n",
    "while accuracy:\n",
    "    if a + epsilon == a:\n",
    "        accuracy = False\n",
    "    else:\n",
    "        epsilon = epsilon/10\n",
    "\n",
    "print('The machine precision is in the order of: ', epsilon)\n",
    "\n",
    "#Trasformo in una funzione\n",
    "\n",
    "def machinePrecision():\n",
    "    a = 4.5\n",
    "    epsilon = 0.001\n",
    "    accuracy = True\n",
    "    \n",
    "    while accuracy:\n",
    "        if a + epsilon == a:\n",
    "            accuracy = False\n",
    "        else:\n",
    "            epsilon = epsilon/10\n",
    "    \n",
    "    return epsilon\n"
   ]
  },
  {
   "cell_type": "code",
   "execution_count": 27,
   "id": "ad34c74c",
   "metadata": {},
   "outputs": [
    {
     "name": "stdout",
     "output_type": "stream",
     "text": [
      "(-0.999999999999, -9.999894245993345e-13)\n",
      "(-1000010.5755125057, -1.000000000001e-06)\n"
     ]
    }
   ],
   "source": [
    "# Esercizio 5\n",
    "import math\n",
    "\n",
    "def quadraticSolution_a(a,b,c):\n",
    "    #ritorna la soluzione di ax^2 + bx + c = 0\n",
    "    delta = b*b - 4*a*c\n",
    "    if delta < 0:\n",
    "        print('There is no solution to the system')\n",
    "        return\n",
    "    elif delta == 0:\n",
    "        print('The system is indeterminate')\n",
    "        return\n",
    "    else:\n",
    "        x1 = (- b - math.sqrt(delta)) / 2*a\n",
    "        x2 = (- b + math.sqrt(delta)) / 2*a\n",
    "        return x1, x2\n",
    "\n",
    "a = 0.001\n",
    "b = 1000\n",
    "c = 0.001\n",
    "\n",
    "print(quadraticSolution_a(a,b,c))\n",
    "\n",
    "def quadraticSolution_b(a,b,c):\n",
    "    delta = b*b - 4*a*c\n",
    "    if delta < 0:\n",
    "        print('There is no solution to the system')\n",
    "        return\n",
    "    elif delta == 0:\n",
    "        print('The system is indeterminate')\n",
    "        return\n",
    "    else:\n",
    "        x1 =  2*c / (-b + math.sqrt(delta))\n",
    "        x2 = 2*c / (- b - math.sqrt(delta))\n",
    "        return x1, x2\n",
    "\n",
    "print(quadraticSolution_b(a,b,c))\n",
    "\n",
    "#Per prima cosa, notiamo che, essendo a e c molto piccole, il loro prodotto sarà molto << b^2. Di conseguenga \n",
    "# la radice di delta sarà molto simile a b (non c'entra)\n",
    "\n",
    "# Nel primo caso, trovandosi la radice quadrata di un floating point al numeratore, piccole variazioni\n",
    "# di tale floating point (a causa della machine precision nella rappresentazione di numeri in virgola mobile),\n",
    "# si riverbera in piccole variazioni del risultato finale\n",
    "\n",
    "#Invece, nel secondo caso, trovandosi la radice quadrata di un floating point al denominatore, piccole variazioni\n",
    "# di tale floating point (a causa della machine precision nella rappresentazione di numeri in virgola mobile),\n",
    "# sono sufficienti a produrre elevate modificazioni del risultato finale\n"
   ]
  },
  {
   "cell_type": "code",
   "execution_count": 34,
   "id": "12049e22",
   "metadata": {
    "scrolled": true
   },
   "outputs": [
    {
     "name": "stdout",
     "output_type": "stream",
     "text": [
      "Code Result:        1.010000000000001\n",
      "Analytical Result:  1.01 \n",
      "\n",
      "Code Result for sigma =  0.0001 :  1.0000999999998899\n",
      "Correct Analyticsl Result:        1.0001 \n",
      "\n",
      "Code Result for sigma =  1e-06 :  1.0000009999177333\n",
      "Correct Analyticsl Result:        1.000001 \n",
      "\n",
      "Code Result for sigma =  1e-08 :  1.0000000039225287\n",
      "Correct Analyticsl Result:        1.00000001 \n",
      "\n",
      "Code Result for sigma =  1e-10 :  1.000000082840371\n",
      "Correct Analyticsl Result:        1.0000000001 \n",
      "\n",
      "Code Result for sigma =  1e-12 :  1.0000889005833413\n",
      "Correct Analyticsl Result:        1.000000000001 \n",
      "\n",
      "Code Result for sigma =  1e-14 :  0.9992007221626509\n",
      "Correct Analyticsl Result:        1.00000000000001 \n",
      "\n"
     ]
    },
    {
     "data": {
      "text/plain": [
       "<function matplotlib.pyplot.show(close=None, block=None)>"
      ]
     },
     "execution_count": 34,
     "metadata": {},
     "output_type": "execute_result"
    },
    {
     "data": {
      "image/png": "[encoded data removed]",
      "text/plain": [
       "<Figure size 640x480 with 1 Axes>"
      ]
     },
     "metadata": {},
     "output_type": "display_data"
    }
   ],
   "source": [
    "#Esercizio 6\n",
    "import matplotlib.pyplot as plt\n",
    "\n",
    "def f(x):\n",
    "    return x*(x-1)\n",
    "\n",
    "def derivate_f(x,sigma):\n",
    "    return (f(x+sigma)-f(x))/sigma\n",
    "\n",
    "sigma = 0.01\n",
    "x = 1\n",
    "print('Code Result:       ', derivate_f(x,sigma))\n",
    "result = sigma + 1;\n",
    "print('Analytical Result: ', result, '\\n')\n",
    "\n",
    "diff = [result - derivate_f(x,sigma)]\n",
    "\n",
    "for sigma in [10**-4, 10**-6, 10**-8, 10**-10, 10**-12, 10**-14]:\n",
    "    print('Code Result for sigma = ', sigma, ': ', derivate_f(x,sigma))\n",
    "    print('Correct Analyticsl Result:       ', sigma + 1, '\\n')\n",
    "    diff.append(sigma + 1 - derivate_f(x,sigma))\n",
    "\n",
    "plt.plot([2,4,6,8,10,12,14], diff)\n",
    "plt.xlabel('sigma = 10*(-x)')\n",
    "plt.ylabel('Result - Derivate_f(1,sigma)')\n",
    "plt.title('Accuracy scale with respect to sigma')\n",
    "plt.show"
   ]
  },
  {
   "cell_type": "code",
   "execution_count": 25,
   "id": "d4ddee37",
   "metadata": {},
   "outputs": [
    {
     "name": "stdout",
     "output_type": "stream",
     "text": [
      "The integral of the semicircle of radius 1 is:  1.570796326742361\n",
      "Correct Analytical Result:  1.5707963267948966\n",
      "The computation runs for  0.0735561559999951  seconds\n"
     ]
    }
   ],
   "source": [
    "# Esercizio 7\n",
    "import math\n",
    "import timeit\n",
    "\n",
    "def semicerchioUnitario(x):\n",
    "    return math.sqrt(2*x - x*x)\n",
    "\n",
    "def semicircleIntegral(N):\n",
    "    I = 0\n",
    "    for k in range(N):\n",
    "        I += (2/N)*semicerchioUnitario(2*k/N)\n",
    "    return I \n",
    "\n",
    "N = 10000000\n",
    "print('The integral of the semicircle of radius 1 is: ', semicircleIntegral(N))\n",
    "print('Correct Analytical Result: ', math.pi/2)\n",
    "\n",
    "t = timeit.timeit(stmt = 'lambda N:semicircleIntegral(N)')\n",
    "print('The computation runs for ', str(t), ' seconds')\n"
   ]
  },
  {
   "cell_type": "code",
   "execution_count": 22,
   "id": "6670908c",
   "metadata": {},
   "outputs": [],
   "source": [
    "#while t < 1:\n",
    "#    N = N*10\n",
    "#    t = timeit.timeit(stmt = 'lambda N:semicircleIntegral(N)')\n",
    "    \n",
    "#print('With N = ', str(N), 'the computation runs for: ', str(t),' seconds')"
   ]
  }
 ],
 "metadata": {
  "kernelspec": {
   "display_name": "Python 3 (ipykernel)",
   "language": "python",
   "name": "python3"
  },
  "language_info": {
   "codemirror_mode": {
    "name": "ipython",
    "version": 3
   },
   "file_extension": ".py",
   "mimetype": "text/x-python",
   "name": "python",
   "nbconvert_exporter": "python",
   "pygments_lexer": "ipython3",
   "version": "3.8.6"
  }
 },
 "nbformat": 4,
 "nbformat_minor": 5
}
