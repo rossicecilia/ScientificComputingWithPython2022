{
 "cells": [
  {
   "cell_type": "code",
   "execution_count": 19,
   "id": "238b0413",
   "metadata": {},
   "outputs": [
    {
     "name": "stdout",
     "output_type": "stream",
     "text": [
      "Binario in Intero:  0b10111 23 23\n",
      "Intero in Binario:  23 0b10111 0b10111\n",
      "Binario in Esadecimale:  0b10111 0x17 0x17\n",
      "Esadecimale in binario: 0x17 0b10111 0b10111\n",
      "Intero in esadecimale:  23 0x17 0x17\n",
      "Esadecimale in Intero:  0x17 23 23\n"
     ]
    }
   ],
   "source": [
    "#Esercizio 1\n",
    "\n",
    "def convertNumRepresentation(num, newtype):\n",
    "    #fornire newtype: dec = decimale, bin = binario, hex = esadecimale\n",
    "    if isinstance(num,float):\n",
    "        raise Error\n",
    "    else:\n",
    "        if isinstance(num,str): #è binario o esadecimale\n",
    "            if num.startswith('0b'):\n",
    "                oldtype = 'bin'\n",
    "                try: \n",
    "                    num = int(num,2)\n",
    "                except: \n",
    "                    raise Error('The input is not a binary number')\n",
    "            elif num.startswith('0x'):\n",
    "                oldtype = 'hex'\n",
    "                try:\n",
    "                    num = int(num, 16)\n",
    "                except:\n",
    "                    raise Error('The input is not an hexadecimal number')\n",
    "        else:\n",
    "            oldtype = 'dec'\n",
    "        \n",
    "        if oldtype != newtype:\n",
    "            if newtype == 'dec':\n",
    "                return num\n",
    "            elif newtype == 'bin':\n",
    "                return bin(num)\n",
    "            else:\n",
    "                return hex(num)\n",
    "        else:\n",
    "            return num\n",
    "            \n",
    "\n",
    "#Test\n",
    "a = bin(23)\n",
    "b = 23\n",
    "c = hex(23)\n",
    "\n",
    "print('Binario in Intero: ', a, str(b), convertNumRepresentation(a,'dec'))\n",
    "print('Intero in Binario: ',  str(b), a, convertNumRepresentation(b,'bin'))\n",
    "print('Binario in Esadecimale: ', a, c, convertNumRepresentation(a,'hex'))\n",
    "print('Esadecimale in binario:', c, a, convertNumRepresentation(c,'bin'))\n",
    "print('Intero in esadecimale: ',b, c, convertNumRepresentation(b,'hex'))\n",
    "print('Esadecimale in Intero: ', c, b, convertNumRepresentation(c, 'dec'))"
   ]
  },
  {
   "cell_type": "code",
   "execution_count": 30,
   "id": "b4130a54",
   "metadata": {},
   "outputs": [
    {
     "ename": "ValueError",
     "evalue": "invalid literal for int() with base 2: '0b'",
     "output_type": "error",
     "traceback": [
      "\u001b[0;31m---------------------------------------------------------------------------\u001b[0m",
      "\u001b[0;31mValueError\u001b[0m                                Traceback (most recent call last)",
      "Cell \u001b[0;32mIn [30], line 30\u001b[0m\n\u001b[1;32m     27\u001b[0m     \u001b[38;5;28;01mreturn\u001b[39;00m float_num\n\u001b[1;32m     29\u001b[0m a \u001b[38;5;241m=\u001b[39m \u001b[38;5;124m'\u001b[39m\u001b[38;5;124m11000010101100000000000011001010\u001b[39m\u001b[38;5;124m'\u001b[39m\n\u001b[0;32m---> 30\u001b[0m f_num \u001b[38;5;241m=\u001b[39m \u001b[43msinglePrecisionFloat\u001b[49m\u001b[43m(\u001b[49m\u001b[43ma\u001b[49m\u001b[43m)\u001b[49m\n\u001b[1;32m     31\u001b[0m \u001b[38;5;28mprint\u001b[39m(f_num)\n",
      "Cell \u001b[0;32mIn [30], line 15\u001b[0m, in \u001b[0;36msinglePrecisionFloat\u001b[0;34m(binstr)\u001b[0m\n\u001b[1;32m     13\u001b[0m espon \u001b[38;5;241m=\u001b[39m binstr[\u001b[38;5;241m30\u001b[39m:\u001b[38;5;241m23\u001b[39m]\n\u001b[1;32m     14\u001b[0m espon \u001b[38;5;241m=\u001b[39m \u001b[38;5;124m'\u001b[39m\u001b[38;5;124m0b\u001b[39m\u001b[38;5;124m'\u001b[39m \u001b[38;5;241m+\u001b[39m espon\n\u001b[0;32m---> 15\u001b[0m e \u001b[38;5;241m=\u001b[39m \u001b[38;5;28;43mint\u001b[39;49m\u001b[43m(\u001b[49m\u001b[43mespon\u001b[49m\u001b[43m \u001b[49m\u001b[43m,\u001b[49m\u001b[43m \u001b[49m\u001b[38;5;241;43m2\u001b[39;49m\u001b[43m)\u001b[49m\n\u001b[1;32m     17\u001b[0m \u001b[38;5;66;03m#mantissa da 9 a 31\u001b[39;00m\n\u001b[1;32m     18\u001b[0m mantissa \u001b[38;5;241m=\u001b[39m binstr[\u001b[38;5;241m22\u001b[39m:\u001b[38;5;241m0\u001b[39m]\n",
      "\u001b[0;31mValueError\u001b[0m: invalid literal for int() with base 2: '0b'"
     ]
    }
   ],
   "source": [
    "#Esercizio 2:\n",
    "\n",
    "def singlePrecisionFloat(binstr):\n",
    "    bias = 127\n",
    "    \n",
    "    #primo bit = segno\n",
    "    if binstr[31] == 0:\n",
    "        s = 1\n",
    "    else:\n",
    "        s = -1\n",
    "        \n",
    "    #bit dall'1 all'8 = esponente\n",
    "    espon = binstr[30:23]\n",
    "    espon = '0b' + espon\n",
    "    e = int(espon , 2)\n",
    "    \n",
    "    #mantissa da 9 a 31\n",
    "    mantissa = binstr[22:0]\n",
    "    mantissa = '0b'+ mantissa\n",
    "    f = int(mantissa , 2)\n",
    "    n = len(f)\n",
    "    \n",
    "    \n",
    "    #Ricostruisco il numero in singola precisione\n",
    "    \n",
    "    float_num = ((-1)*s)*(1+(int(f)*(10**(-n))))*(2**(e-bias))\n",
    "    return float_num\n",
    "\n",
    "a = '11000010101100000000000011001010'\n",
    "f_num = singlePrecisionFloat(a)\n",
    "print(f_num)"
   ]
  },
  {
   "cell_type": "code",
   "execution_count": 26,
   "id": "ad34c74c",
   "metadata": {},
   "outputs": [
    {
     "name": "stdout",
     "output_type": "stream",
     "text": [
      "<reversed object at 0x10d819f10>\n"
     ]
    }
   ],
   "source": [
    "c = 'spazzacamini'\n",
    "c = reversed(c)\n",
    "print(c)"
   ]
  },
  {
   "cell_type": "code",
   "execution_count": 11,
   "id": "12049e22",
   "metadata": {},
   "outputs": [
    {
     "data": {
      "text/plain": [
       "False"
      ]
     },
     "execution_count": 11,
     "metadata": {},
     "output_type": "execute_result"
    }
   ],
   "source": [
    "a = 78\n",
    "type(a)\n",
    "type(a) == type(float(a))"
   ]
  },
  {
   "cell_type": "code",
   "execution_count": null,
   "id": "a684f617",
   "metadata": {},
   "outputs": [],
   "source": []
  }
 ],
 "metadata": {
  "kernelspec": {
   "display_name": "Python 3 (ipykernel)",
   "language": "python",
   "name": "python3"
  },
  "language_info": {
   "codemirror_mode": {
    "name": "ipython",
    "version": 3
   },
   "file_extension": ".py",
   "mimetype": "text/x-python",
   "name": "python",
   "nbconvert_exporter": "python",
   "pygments_lexer": "ipython3",
   "version": "3.8.6"
  }
 },
 "nbformat": 4,
 "nbformat_minor": 5
}
