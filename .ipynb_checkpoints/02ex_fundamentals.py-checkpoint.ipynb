{
 "cells": [
  {
   "cell_type": "code",
   "execution_count": 5,
   "id": "f4ba3e93",
   "metadata": {},
   "outputs": [
    {
     "name": "stdout",
     "output_type": "stream",
     "text": [
      "[1, 2, 3]\n",
      "[1, 2, 3, 0, 1, 2, 3, 4]\n"
     ]
    }
   ],
   "source": [
    "# (OK) Esercizio 1: \n",
    "\n",
    "def f(alist, x):\n",
    "    blist = alist[:]\n",
    "    for i in range(x):\n",
    "        blist.append(i)\n",
    "    return blist\n",
    "\n",
    "alist = [1,2,3]\n",
    "ans = f(alist,5)\n",
    "print(alist)\n",
    "print(ans)"
   ]
  },
  {
   "cell_type": "code",
   "execution_count": 83,
   "id": "04720d92",
   "metadata": {},
   "outputs": [
    {
     "name": "stdout",
     "output_type": "stream",
     "text": [
      "[1, 9, 25, 49, 81]\n"
     ]
    }
   ],
   "source": [
    "# (OK) Esercizio 2 \n",
    "ans = [x*x for x in list(filter(lambda y : y % 2 == 1, range(10)))]\n",
    "print(ans)"
   ]
  },
  {
   "cell_type": "code",
   "execution_count": 84,
   "id": "84a59927",
   "metadata": {},
   "outputs": [
    {
     "name": "stdout",
     "output_type": "stream",
     "text": [
      "['mamma', 'ciao', 'bu']\n"
     ]
    }
   ],
   "source": [
    "# (OK) Esercizio 3 \n",
    "\n",
    "def wlist_shorter_n(wlist,n):\n",
    "    wlist_short = list(filter(lambda x: len(x) <= n , wlist))\n",
    "    return wlist_short\n",
    "\n",
    "n = 5;\n",
    "wlist = ['mamma','cameriere','ciao','bu','australopiteco'] #aggiungo lista di parole\n",
    "print(wlist_shorter_n(wlist,n))"
   ]
  },
  {
   "cell_type": "code",
   "execution_count": 67,
   "id": "d1fa2e19",
   "metadata": {},
   "outputs": [
    {
     "name": "stdout",
     "output_type": "stream",
     "text": [
      "[6, 4, 9, 3]\n"
     ]
    }
   ],
   "source": [
    "# (OK) Esercizio 4\n",
    "\n",
    "def len_keys(dizio):\n",
    "    return list(map(len,dizio.keys()))\n",
    "\n",
    "lang = {\"Python\" : 3, \"Java\" : '', \"Cplusplus\" : 'test', \"Php\" : 0.7}\n",
    "print(len_keys(lang))"
   ]
  },
  {
   "cell_type": "code",
   "execution_count": 15,
   "id": "e0fbb116",
   "metadata": {},
   "outputs": [
    {
     "name": "stdout",
     "output_type": "stream",
     "text": [
      "[('Cplusplus', 81), ('Java', 32), ('Php', 45), ('Python', 97)]\n"
     ]
    }
   ],
   "source": [
    "# (OK) Esercizio 5\n",
    "\n",
    "language_scores = [('Python', 97), ('Cplusplus', 81), ('Php', 45), ('Java', 32)]\n",
    "language_scores.sort(key = lambda x:x[0])\n",
    "print(language_scores)\n",
    "\n"
   ]
  },
  {
   "cell_type": "code",
   "execution_count": 59,
   "id": "236c83b7",
   "metadata": {},
   "outputs": [
    {
     "name": "stdout",
     "output_type": "stream",
     "text": [
      "9 9\n",
      "27 27\n",
      "729 729\n"
     ]
    }
   ],
   "source": [
    "# (OK) Esercizio 6\n",
    "\n",
    "def square(x):\n",
    "    return x**2\n",
    "\n",
    "def cube(x):\n",
    "    return x**3\n",
    "\n",
    "def sixth(x):\n",
    "    return square(cube(x))\n",
    "\n",
    "x = 3\n",
    "print(square(x), x**2)\n",
    "print(cube(x),x**3)\n",
    "print(sixth(x),x**6)\n",
    "\n"
   ]
  },
  {
   "cell_type": "code",
   "execution_count": 56,
   "id": "3508bdc1",
   "metadata": {},
   "outputs": [
    {
     "name": "stdout",
     "output_type": "stream",
     "text": [
      "Hello World!\n",
      "None\n"
     ]
    }
   ],
   "source": [
    "# (OK circa) Esercizio 7\n",
    "\n",
    "def hello_world(func):\n",
    "    def wrapper(x, *args):\n",
    "        print('Hello World!')\n",
    "        func(x, *args)\n",
    "    return wrapper\n",
    "\n",
    "def square(x):\n",
    "    return x*x\n",
    "\n",
    "@hello_world\n",
    "def square(x):\n",
    "    return x*x\n",
    "\n",
    "print(square(2))"
   ]
  },
  {
   "cell_type": "code",
   "execution_count": 93,
   "id": "5ea402ae",
   "metadata": {},
   "outputs": [
    {
     "name": "stdout",
     "output_type": "stream",
     "text": [
      "6765\n",
      "[0, 1, 1, 2, 3, 5, 8, 13, 21, 34, 55, 89, 144, 233, 377, 610, 987, 1597, 2584, 4181]\n"
     ]
    }
   ],
   "source": [
    "# (OK ?) Esercizio 8\n",
    "\n",
    "def recursive_Fibonacci(n):\n",
    "    if n == 0 or n == 1:\n",
    "        return n \n",
    "    else:\n",
    "        return recursive_Fibonacci(n-1) + recursive_Fibonacci(n-2)\n",
    "\n",
    "n = 20;\n",
    "fibonacci = []\n",
    "for i in range(n):\n",
    "    fibonacci.append(recursive_Fibonacci(i))\n",
    "print(fibonacci)"
   ]
  },
  {
   "cell_type": "code",
   "execution_count": 21,
   "id": "00649583",
   "metadata": {},
   "outputs": [
    {
     "name": "stdout",
     "output_type": "stream",
     "text": [
      "Loop:  0.8470551760001399\n",
      "Recursive:  0.7720095900003798\n",
      "The most efficient algorithm is the recursive one, with an advace of  8.859586497556291  %\n"
     ]
    }
   ],
   "source": [
    "# (OK circa) Esercizio 9 \n",
    "import timeit\n",
    "\n",
    "def loop_Fibonacci(n):\n",
    "    fibonacci = list()\n",
    "    for i in range(20):\n",
    "        if i == 0 or i == 1:\n",
    "            fibonacci.append(i)\n",
    "        else:\n",
    "            fibonacci.append(fibonacci[i-1]+fibonacci[i-2])\n",
    "    return fibonacci\n",
    "\n",
    "def recursive_Fibonacci(n):\n",
    "    if n == 0 or n == 1:\n",
    "        return n \n",
    "    else:\n",
    "        return recursive_Fibonacci(n-1) + recursive_Fibonacci(n-2)\n",
    "\n",
    "def list_recursive_Fibonacci(n):\n",
    "    fibonacci = []\n",
    "    for i in range(n):\n",
    "        fibonacci.append(recursive_Fibonacci(i))\n",
    "    return fibonacci\n",
    "\n",
    "n = 20\n",
    "\n",
    "#t_loop = timeit.Timer('lambda n:loop_Fibonacci(n)')\n",
    "#t_rc = timeit.Timer('lambda n:list_recursive_Fibonacci(n)')\n",
    "\n",
    "t_loop = timeit.timeit(stmt = 'lambda n:loop_Fibonacci(n)', number = 10000000)\n",
    "t_rc = timeit.timeit(stmt = 'lambda n:list_recursive_Fibonacci(n)', number = 10000000)\n",
    "print('Loop: ', str(t_loop))\n",
    "print('Recursive: ', str(t_rc))\n",
    "if t_loop < t_rc:\n",
    "    print('The most efficient algorithm is the iterative one, with an advace of ',str((t_rc - t_loop)/t_rc*100),' %')\n",
    "else:\n",
    "    print('The most efficient algorithm is the recursive one, with an advace of ',str((t_loop - t_rc)/t_loop*100),' %')\n",
    "    "
   ]
  },
  {
   "cell_type": "code",
   "execution_count": 18,
   "id": "630482fa",
   "metadata": {},
   "outputs": [
    {
     "name": "stdout",
     "output_type": "stream",
     "text": [
      "Perimetro:  12\n",
      "Risposta Corretta: 12\n",
      "[5, 3, 4]\n",
      "(3, 4, 5)\n",
      "[5, 3, 4]\n"
     ]
    }
   ],
   "source": [
    "#Esercizio 10\n",
    "\n",
    "#Definition of the class Polygon\n",
    "\n",
    "class Polygon:\n",
    "    \n",
    "    def __init__(self, length_sides):\n",
    "        if len(length_sides) < 3:\n",
    "            raise Error(\"Error: the polygon cannot be created\")\n",
    "        else: \n",
    "            self._length_sides = list(length_sides)\n",
    "            self._num_sides = len(self._length_sides)\n",
    "    \n",
    "    def getSides(self):\n",
    "        return self._length_sides\n",
    "    \n",
    "    def numSide(self):\n",
    "        return self._num_sides\n",
    "    \n",
    "    def setSide(self, i, lunghezza):\n",
    "        if i < 0 or i > self._num_sides:\n",
    "            return 'Error: the index is not correct'\n",
    "        else:\n",
    "            self._length_sides[i] = lunghezza\n",
    "    \n",
    "    def perimeter(self):\n",
    "        return sum(self._length_sides)\n",
    "    \n",
    "    def getOrderedSides(self, increasing = True):\n",
    "        return tuple(sorted(self._length_sides, reverse = (not increasing)))\n",
    "\n",
    "#Test of the class\n",
    "\n",
    "triangolo = Polygon((5,3,4))\n",
    "print('Perimetro: ', str(triangolo.perimeter()))\n",
    "print('Risposta Corretta:', str(12))\n",
    "print(triangolo.getSides())\n",
    "print(triangolo.getOrderedSides())\n",
    "print(triangolo.getSides()) #per controllare che non si modifichi la variabile di attributo"
   ]
  },
  {
   "cell_type": "code",
   "execution_count": 24,
   "id": "5353002b",
   "metadata": {},
   "outputs": [],
   "source": [
    "#Esercizio 11\n",
    "\n",
    "class Rectangle(Polygon): \n",
    "    \n",
    "    def __init__(self, length_sides):\n",
    "        super().__init__(length_sides)\n",
    "        if self.getSide != 4:\n",
    "            raise Error(\"A Rectangle must have 4 sides\")\n",
    "        elif (self.getOrderedSides(0) != self.getOrderedSides(1)) or (self.getOrderedSides(2) != self.getOrderedSides(3)):\n",
    "            raise Error(\"I lati di un Rettangolo devono essere a due a due identici\")\n",
    "    \n",
    "    def area(self):\n",
    "        return self.getOrderedSides(0)*self.getOrderedSides(2)"
   ]
  },
  {
   "cell_type": "code",
   "execution_count": null,
   "id": "1830e53c",
   "metadata": {},
   "outputs": [],
   "source": []
  }
 ],
 "metadata": {
  "kernelspec": {
   "display_name": "Python 3 (ipykernel)",
   "language": "python",
   "name": "python3"
  },
  "language_info": {
   "codemirror_mode": {
    "name": "ipython",
    "version": 3
   },
   "file_extension": ".py",
   "mimetype": "text/x-python",
   "name": "python",
   "nbconvert_exporter": "python",
   "pygments_lexer": "ipython3",
   "version": "3.8.6"
  }
 },
 "nbformat": 4,
 "nbformat_minor": 5
}
