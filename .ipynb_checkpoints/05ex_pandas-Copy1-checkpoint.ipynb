{
 "cells": [
  {
   "cell_type": "markdown",
   "metadata": {},
   "source": [
    "1\\. **Pandas DataFrame**\n",
    "\n",
    "This exercise consists in analyzing a dataset containg timing information from a series of Time-to-Digital-Converters (TDC) implemented in a pair of FPGAs. Each measurement (i.e. each row of the input file) consists of a flag that specifies the type of message ('HEAD', which in this case is always 1), two addresses of the TDC providing the signal ('FPGA' and 'TDC_CHANNEL'), and the timing information ('ORBIT_CNT', 'BX_COUNTER', and 'TDC_MEAS'). Each TDC count corresponds to 25/30 ns, whereas a unit of BX_COUNTER corresponds to 25 ns, and the ORBIT_CNT is increased every `x` BX_COUNTER. This allows to store the time in a similar way to hours, minutes and seconds."
   ]
  },
  {
   "cell_type": "code",
   "execution_count": 11,
   "metadata": {},
   "outputs": [
    {
     "name": "stdout",
     "output_type": "stream",
     "text": [
      "--2022-11-23 13:24:35--  https://www.dropbox.com/s/xvjzaxzz3ysphme/data_000637.txt\n",
      "Risoluzione di www.dropbox.com (www.dropbox.com)... 162.125.69.18\n",
      "Connessione a www.dropbox.com (www.dropbox.com)|162.125.69.18|:443... connesso.\n",
      "Richiesta HTTP inviata, in attesa di risposta... 302 Found\n",
      "Posizione: /s/raw/xvjzaxzz3ysphme/data_000637.txt [segue]\n",
      "--2022-11-23 13:24:35--  https://www.dropbox.com/s/raw/xvjzaxzz3ysphme/data_000637.txt\n",
      "Riutilizzo della connessione esistente a www.dropbox.com:443.\n",
      "Richiesta HTTP inviata, in attesa di risposta... 302 Found\n",
      "Posizione: https://ucf450284d8c4c7e66fe908da213.dl.dropboxusercontent.com/cd/0/inline/BxSuCBbAt4MUesgLELPpXobZFh06OvO3rEltw-s7dCccNyVrTGk_L5t6BWiKrOuOWtO1d9otDn-qAyC1In5-dah8driCiceuAMcRpQQAN0ypqgR9LiDhhrPtkxrWIKmtUhlxph8PW37p6-HomDznfx-ZmgbqdT5-nb3ggmV9pujVsg/file# [segue]\n",
      "--2022-11-23 13:24:36--  https://ucf450284d8c4c7e66fe908da213.dl.dropboxusercontent.com/cd/0/inline/BxSuCBbAt4MUesgLELPpXobZFh06OvO3rEltw-s7dCccNyVrTGk_L5t6BWiKrOuOWtO1d9otDn-qAyC1In5-dah8driCiceuAMcRpQQAN0ypqgR9LiDhhrPtkxrWIKmtUhlxph8PW37p6-HomDznfx-ZmgbqdT5-nb3ggmV9pujVsg/file\n",
      "Risoluzione di ucf450284d8c4c7e66fe908da213.dl.dropboxusercontent.com (ucf450284d8c4c7e66fe908da213.dl.dropboxusercontent.com)... 162.125.69.15\n",
      "Connessione a ucf450284d8c4c7e66fe908da213.dl.dropboxusercontent.com (ucf450284d8c4c7e66fe908da213.dl.dropboxusercontent.com)|162.125.69.15|:443... connesso.\n",
      "Richiesta HTTP inviata, in attesa di risposta... 200 OK\n",
      "Lunghezza: 33179236 (32M) [text/plain]\n",
      "Salvataggio in: «./data/data_000637.txt.4»\n",
      "\n",
      "data_000637.txt.4   100%[===================>]  31,64M  6,03MB/s    in 5,1s    \n",
      "\n",
      "2022-11-23 13:24:42 (6,18 MB/s) - «./data/data_000637.txt.4» salvato [33179236/33179236]\n",
      "\n"
     ]
    }
   ],
   "source": [
    "# If haven't downloaded it yet, please get the data file with wget\n",
    "!wget https://www.dropbox.com/s/xvjzaxzz3ysphme/data_000637.txt -P ./data/"
   ]
  },
  {
   "cell_type": "markdown",
   "metadata": {},
   "source": [
    "1\\. Create a Pandas DataFrame reading N rows of the `data/data_000637.txt` dataset. Choose N to be smaller than or equal to the maximum number of rows and larger that 10k (check the documentation)."
   ]
  },
  {
   "cell_type": "code",
   "execution_count": 31,
   "metadata": {},
   "outputs": [
    {
     "data": {
      "text/html": [
       "<div>\n",
       "<style scoped>\n",
       "    .dataframe tbody tr th:only-of-type {\n",
       "        vertical-align: middle;\n",
       "    }\n",
       "\n",
       "    .dataframe tbody tr th {\n",
       "        vertical-align: top;\n",
       "    }\n",
       "\n",
       "    .dataframe thead th {\n",
       "        text-align: right;\n",
       "    }\n",
       "</style>\n",
       "<table border=\"1\" class=\"dataframe\">\n",
       "  <thead>\n",
       "    <tr style=\"text-align: right;\">\n",
       "      <th></th>\n",
       "      <th>HEAD</th>\n",
       "      <th>FPGA</th>\n",
       "      <th>TDC_CHANNEL</th>\n",
       "      <th>ORBIT_CNT</th>\n",
       "      <th>BX_COUNTER</th>\n",
       "      <th>TDC_MEAS</th>\n",
       "    </tr>\n",
       "  </thead>\n",
       "  <tbody>\n",
       "    <tr>\n",
       "      <th>0</th>\n",
       "      <td>1</td>\n",
       "      <td>0</td>\n",
       "      <td>123</td>\n",
       "      <td>3869200167</td>\n",
       "      <td>2374</td>\n",
       "      <td>26</td>\n",
       "    </tr>\n",
       "    <tr>\n",
       "      <th>1</th>\n",
       "      <td>1</td>\n",
       "      <td>0</td>\n",
       "      <td>124</td>\n",
       "      <td>3869200167</td>\n",
       "      <td>2374</td>\n",
       "      <td>27</td>\n",
       "    </tr>\n",
       "    <tr>\n",
       "      <th>2</th>\n",
       "      <td>1</td>\n",
       "      <td>0</td>\n",
       "      <td>63</td>\n",
       "      <td>3869200167</td>\n",
       "      <td>2553</td>\n",
       "      <td>28</td>\n",
       "    </tr>\n",
       "    <tr>\n",
       "      <th>3</th>\n",
       "      <td>1</td>\n",
       "      <td>0</td>\n",
       "      <td>64</td>\n",
       "      <td>3869200167</td>\n",
       "      <td>2558</td>\n",
       "      <td>19</td>\n",
       "    </tr>\n",
       "    <tr>\n",
       "      <th>4</th>\n",
       "      <td>1</td>\n",
       "      <td>0</td>\n",
       "      <td>64</td>\n",
       "      <td>3869200167</td>\n",
       "      <td>2760</td>\n",
       "      <td>25</td>\n",
       "    </tr>\n",
       "    <tr>\n",
       "      <th>...</th>\n",
       "      <td>...</td>\n",
       "      <td>...</td>\n",
       "      <td>...</td>\n",
       "      <td>...</td>\n",
       "      <td>...</td>\n",
       "      <td>...</td>\n",
       "    </tr>\n",
       "    <tr>\n",
       "      <th>877941</th>\n",
       "      <td>1</td>\n",
       "      <td>1</td>\n",
       "      <td>1</td>\n",
       "      <td>3869208195</td>\n",
       "      <td>2905</td>\n",
       "      <td>27</td>\n",
       "    </tr>\n",
       "    <tr>\n",
       "      <th>877942</th>\n",
       "      <td>1</td>\n",
       "      <td>0</td>\n",
       "      <td>62</td>\n",
       "      <td>3869208195</td>\n",
       "      <td>2903</td>\n",
       "      <td>19</td>\n",
       "    </tr>\n",
       "    <tr>\n",
       "      <th>877943</th>\n",
       "      <td>1</td>\n",
       "      <td>0</td>\n",
       "      <td>37</td>\n",
       "      <td>3869208195</td>\n",
       "      <td>2907</td>\n",
       "      <td>23</td>\n",
       "    </tr>\n",
       "    <tr>\n",
       "      <th>877944</th>\n",
       "      <td>1</td>\n",
       "      <td>1</td>\n",
       "      <td>2</td>\n",
       "      <td>3869208195</td>\n",
       "      <td>2910</td>\n",
       "      <td>13</td>\n",
       "    </tr>\n",
       "    <tr>\n",
       "      <th>877945</th>\n",
       "      <td>1</td>\n",
       "      <td>0</td>\n",
       "      <td>139</td>\n",
       "      <td>3869208195</td>\n",
       "      <td>2912</td>\n",
       "      <td>0</td>\n",
       "    </tr>\n",
       "  </tbody>\n",
       "</table>\n",
       "<p>877946 rows × 6 columns</p>\n",
       "</div>"
      ],
      "text/plain": [
       "        HEAD  FPGA  TDC_CHANNEL   ORBIT_CNT  BX_COUNTER  TDC_MEAS\n",
       "0          1     0          123  3869200167        2374        26\n",
       "1          1     0          124  3869200167        2374        27\n",
       "2          1     0           63  3869200167        2553        28\n",
       "3          1     0           64  3869200167        2558        19\n",
       "4          1     0           64  3869200167        2760        25\n",
       "...      ...   ...          ...         ...         ...       ...\n",
       "877941     1     1            1  3869208195        2905        27\n",
       "877942     1     0           62  3869208195        2903        19\n",
       "877943     1     0           37  3869208195        2907        23\n",
       "877944     1     1            2  3869208195        2910        13\n",
       "877945     1     0          139  3869208195        2912         0\n",
       "\n",
       "[877946 rows x 6 columns]"
      ]
     },
     "execution_count": 31,
     "metadata": {},
     "output_type": "execute_result"
    }
   ],
   "source": [
    "import numpy as np\n",
    "import pandas as pd\n",
    "import datetime as dt\n",
    "\n",
    "\n",
    "dataf = pd.read_csv('data/data_000637.txt.2', nrows = np.random.randint(1000,1310721))\n",
    "dataf"
   ]
  },
  {
   "cell_type": "markdown",
   "metadata": {},
   "source": [
    "2\\. Estimate the number of BX in a ORBIT (the value `x`).\n",
    "\n",
    "*Hint*: check when the BX counter reaches the maximum value before being reset to 0."
   ]
  },
  {
   "cell_type": "code",
   "execution_count": 32,
   "metadata": {},
   "outputs": [
    {
     "data": {
      "text/plain": [
       "2559.707744107744"
      ]
     },
     "execution_count": 32,
     "metadata": {},
     "output_type": "execute_result"
    }
   ],
   "source": [
    "x = dataf.groupby('ORBIT_CNT')['BX_COUNTER'].transform(np.max).unique().mean()\n",
    "x"
   ]
  },
  {
   "cell_type": "markdown",
   "metadata": {},
   "source": [
    "3\\. Create a new column with the absolute time in ns (as a combination of the other three columns with timing information) since the beginning of the data acquisition, and convert the new column to a Time Series."
   ]
  },
  {
   "cell_type": "code",
   "execution_count": 33,
   "metadata": {},
   "outputs": [
    {
     "data": {
      "text/html": [
       "<div>\n",
       "<style scoped>\n",
       "    .dataframe tbody tr th:only-of-type {\n",
       "        vertical-align: middle;\n",
       "    }\n",
       "\n",
       "    .dataframe tbody tr th {\n",
       "        vertical-align: top;\n",
       "    }\n",
       "\n",
       "    .dataframe thead th {\n",
       "        text-align: right;\n",
       "    }\n",
       "</style>\n",
       "<table border=\"1\" class=\"dataframe\">\n",
       "  <thead>\n",
       "    <tr style=\"text-align: right;\">\n",
       "      <th></th>\n",
       "      <th>HEAD</th>\n",
       "      <th>FPGA</th>\n",
       "      <th>TDC_CHANNEL</th>\n",
       "      <th>ORBIT_CNT</th>\n",
       "      <th>BX_COUNTER</th>\n",
       "      <th>TDC_MEAS</th>\n",
       "      <th>Absolute Time (ns)</th>\n",
       "      <th>Absolute Time (Datetime)</th>\n",
       "    </tr>\n",
       "  </thead>\n",
       "  <tbody>\n",
       "    <tr>\n",
       "      <th>0</th>\n",
       "      <td>1</td>\n",
       "      <td>0</td>\n",
       "      <td>123</td>\n",
       "      <td>3869200167</td>\n",
       "      <td>2374</td>\n",
       "      <td>26</td>\n",
       "      <td>5.937167e+04</td>\n",
       "      <td>1970-01-01 00:00:00.000059371</td>\n",
       "    </tr>\n",
       "    <tr>\n",
       "      <th>1</th>\n",
       "      <td>1</td>\n",
       "      <td>0</td>\n",
       "      <td>124</td>\n",
       "      <td>3869200167</td>\n",
       "      <td>2374</td>\n",
       "      <td>27</td>\n",
       "      <td>1.187442e+05</td>\n",
       "      <td>1970-01-01 00:00:00.000118744</td>\n",
       "    </tr>\n",
       "    <tr>\n",
       "      <th>2</th>\n",
       "      <td>1</td>\n",
       "      <td>0</td>\n",
       "      <td>63</td>\n",
       "      <td>3869200167</td>\n",
       "      <td>2553</td>\n",
       "      <td>28</td>\n",
       "      <td>1.825925e+05</td>\n",
       "      <td>1970-01-01 00:00:00.000182592</td>\n",
       "    </tr>\n",
       "    <tr>\n",
       "      <th>3</th>\n",
       "      <td>1</td>\n",
       "      <td>0</td>\n",
       "      <td>64</td>\n",
       "      <td>3869200167</td>\n",
       "      <td>2558</td>\n",
       "      <td>19</td>\n",
       "      <td>2.465583e+05</td>\n",
       "      <td>1970-01-01 00:00:00.000246558</td>\n",
       "    </tr>\n",
       "    <tr>\n",
       "      <th>4</th>\n",
       "      <td>1</td>\n",
       "      <td>0</td>\n",
       "      <td>64</td>\n",
       "      <td>3869200167</td>\n",
       "      <td>2760</td>\n",
       "      <td>25</td>\n",
       "      <td>3.155792e+05</td>\n",
       "      <td>1970-01-01 00:00:00.000315579</td>\n",
       "    </tr>\n",
       "    <tr>\n",
       "      <th>...</th>\n",
       "      <td>...</td>\n",
       "      <td>...</td>\n",
       "      <td>...</td>\n",
       "      <td>...</td>\n",
       "      <td>...</td>\n",
       "      <td>...</td>\n",
       "      <td>...</td>\n",
       "      <td>...</td>\n",
       "    </tr>\n",
       "    <tr>\n",
       "      <th>877941</th>\n",
       "      <td>1</td>\n",
       "      <td>1</td>\n",
       "      <td>1</td>\n",
       "      <td>3869208195</td>\n",
       "      <td>2905</td>\n",
       "      <td>27</td>\n",
       "      <td>3.923131e+10</td>\n",
       "      <td>1970-01-01 00:00:39.231306982</td>\n",
       "    </tr>\n",
       "    <tr>\n",
       "      <th>877942</th>\n",
       "      <td>1</td>\n",
       "      <td>0</td>\n",
       "      <td>62</td>\n",
       "      <td>3869208195</td>\n",
       "      <td>2903</td>\n",
       "      <td>19</td>\n",
       "      <td>3.923138e+10</td>\n",
       "      <td>1970-01-01 00:00:39.231379573</td>\n",
       "    </tr>\n",
       "    <tr>\n",
       "      <th>877943</th>\n",
       "      <td>1</td>\n",
       "      <td>0</td>\n",
       "      <td>37</td>\n",
       "      <td>3869208195</td>\n",
       "      <td>2907</td>\n",
       "      <td>23</td>\n",
       "      <td>3.923145e+10</td>\n",
       "      <td>1970-01-01 00:00:39.231452267</td>\n",
       "    </tr>\n",
       "    <tr>\n",
       "      <th>877944</th>\n",
       "      <td>1</td>\n",
       "      <td>1</td>\n",
       "      <td>2</td>\n",
       "      <td>3869208195</td>\n",
       "      <td>2910</td>\n",
       "      <td>13</td>\n",
       "      <td>3.923153e+10</td>\n",
       "      <td>1970-01-01 00:00:39.231525028</td>\n",
       "    </tr>\n",
       "    <tr>\n",
       "      <th>877945</th>\n",
       "      <td>1</td>\n",
       "      <td>0</td>\n",
       "      <td>139</td>\n",
       "      <td>3869208195</td>\n",
       "      <td>2912</td>\n",
       "      <td>0</td>\n",
       "      <td>3.923160e+10</td>\n",
       "      <td>1970-01-01 00:00:39.231597828</td>\n",
       "    </tr>\n",
       "  </tbody>\n",
       "</table>\n",
       "<p>877946 rows × 8 columns</p>\n",
       "</div>"
      ],
      "text/plain": [
       "        HEAD  FPGA  TDC_CHANNEL   ORBIT_CNT  BX_COUNTER  TDC_MEAS  \\\n",
       "0          1     0          123  3869200167        2374        26   \n",
       "1          1     0          124  3869200167        2374        27   \n",
       "2          1     0           63  3869200167        2553        28   \n",
       "3          1     0           64  3869200167        2558        19   \n",
       "4          1     0           64  3869200167        2760        25   \n",
       "...      ...   ...          ...         ...         ...       ...   \n",
       "877941     1     1            1  3869208195        2905        27   \n",
       "877942     1     0           62  3869208195        2903        19   \n",
       "877943     1     0           37  3869208195        2907        23   \n",
       "877944     1     1            2  3869208195        2910        13   \n",
       "877945     1     0          139  3869208195        2912         0   \n",
       "\n",
       "        Absolute Time (ns)      Absolute Time (Datetime)  \n",
       "0             5.937167e+04 1970-01-01 00:00:00.000059371  \n",
       "1             1.187442e+05 1970-01-01 00:00:00.000118744  \n",
       "2             1.825925e+05 1970-01-01 00:00:00.000182592  \n",
       "3             2.465583e+05 1970-01-01 00:00:00.000246558  \n",
       "4             3.155792e+05 1970-01-01 00:00:00.000315579  \n",
       "...                    ...                           ...  \n",
       "877941        3.923131e+10 1970-01-01 00:00:39.231306982  \n",
       "877942        3.923138e+10 1970-01-01 00:00:39.231379573  \n",
       "877943        3.923145e+10 1970-01-01 00:00:39.231452267  \n",
       "877944        3.923153e+10 1970-01-01 00:00:39.231525028  \n",
       "877945        3.923160e+10 1970-01-01 00:00:39.231597828  \n",
       "\n",
       "[877946 rows x 8 columns]"
      ]
     },
     "execution_count": 33,
     "metadata": {},
     "output_type": "execute_result"
    }
   ],
   "source": [
    "dataf['Absolute Time (ns)'] = (dataf['TDC_MEAS']*(25/30) + dataf['BX_COUNTER']*25).cumsum()\n",
    "dataf['Absolute Time (Datetime)'] = pd.to_datetime(dataf['Absolute Time (ns)'])\n",
    "dataf"
   ]
  },
  {
   "cell_type": "markdown",
   "metadata": {},
   "source": [
    "4\\. Find out the duration of the data taking in hours, minutes and seconds, by using the features of the Time Series. Perform this check reading the whole dataset."
   ]
  },
  {
   "cell_type": "code",
   "execution_count": null,
   "metadata": {},
   "outputs": [],
   "source": []
  },
  {
   "cell_type": "markdown",
   "metadata": {},
   "source": [
    "5\\. Use the `.groupby()` method to find out the noisy channels, i.e. the TDC channels with most counts (print to screen the top 3 and the corresponding counts)"
   ]
  },
  {
   "cell_type": "code",
   "execution_count": null,
   "metadata": {},
   "outputs": [],
   "source": []
  },
  {
   "cell_type": "markdown",
   "metadata": {},
   "source": [
    "6\\. Count the number of non-empty orbits (i.e. the number of orbits with at least one hit)."
   ]
  },
  {
   "cell_type": "code",
   "execution_count": null,
   "metadata": {},
   "outputs": [],
   "source": []
  },
  {
   "cell_type": "markdown",
   "metadata": {},
   "source": [
    "7\\. Count the number of unique orbits with at least one measurement from TDC_CHANNEL=139."
   ]
  },
  {
   "cell_type": "code",
   "execution_count": null,
   "metadata": {},
   "outputs": [],
   "source": []
  },
  {
   "cell_type": "markdown",
   "metadata": {},
   "source": [
    "8\\. Create two Series (one for each FPGA) that have the TDC channel as index, and the number of counts for the corresponding TDC channel as values."
   ]
  },
  {
   "cell_type": "code",
   "execution_count": null,
   "metadata": {},
   "outputs": [],
   "source": []
  },
  {
   "cell_type": "markdown",
   "metadata": {},
   "source": [
    "9\\. **Optional:** Create two histograms (one for each FPGA) that show the number of counts for each TDC channel."
   ]
  },
  {
   "cell_type": "code",
   "execution_count": null,
   "metadata": {},
   "outputs": [],
   "source": []
  }
 ],
 "metadata": {
  "kernelspec": {
   "display_name": "Python 3 (ipykernel)",
   "language": "python",
   "name": "python3"
  },
  "language_info": {
   "codemirror_mode": {
    "name": "ipython",
    "version": 3
   },
   "file_extension": ".py",
   "mimetype": "text/x-python",
   "name": "python",
   "nbconvert_exporter": "python",
   "pygments_lexer": "ipython3",
   "version": "3.8.6"
  }
 },
 "nbformat": 4,
 "nbformat_minor": 2
}
